{
 "cells": [
  {
   "cell_type": "code",
   "execution_count": 1,
   "metadata": {},
   "outputs": [
    {
     "name": "stdout",
     "output_type": "stream",
     "text": [
      "gensim  version = 3.8.3\n",
      "sklearn version = 0.23.1\n",
      "nltk  version = 3.5\n"
     ]
    }
   ],
   "source": [
    "import gensim\n",
    "import sklearn\n",
    "import nltk # 영어 자연어 처리\n",
    "from nltk import RegexpTokenizer\n",
    "from nltk.corpus import stopwords\n",
    "\n",
    "print('gensim  version = {}'.format(gensim.__version__))\n",
    "print('sklearn version = {}'.format(sklearn.__version__))\n",
    "print('nltk  version = {}'.format(nltk.__version__))"
   ]
  },
  {
   "cell_type": "code",
   "execution_count": 42,
   "metadata": {},
   "outputs": [],
   "source": [
    "import pickle\n",
    "\n",
    "with open('D:/WorkSpace/master_thesis/data_pubmed/pmid/documents.pkl', 'rb') as f:\n",
    "    documents = pickle.load(f)"
   ]
  },
  {
   "cell_type": "code",
   "execution_count": 44,
   "metadata": {},
   "outputs": [],
   "source": [
    "# 소문자 통일\n",
    "for key in documents.keys():\n",
    "    documents[key] = str(documents[key]).lower()\n",
    "\n",
    "# print(documents['Dornasealf'])"
   ]
  },
  {
   "cell_type": "code",
   "execution_count": 172,
   "metadata": {},
   "outputs": [],
   "source": [
    "# 단어내 띄어쓰기 처리\n",
    "documents['Dornasealf'] = documents['Dornasealf'].replace('dornase alfa', 'dornase-alfa')\n",
    "# print(documents['Dornasealf'])\n",
    "    "
   ]
  },
  {
   "cell_type": "code",
   "execution_count": 24,
   "metadata": {},
   "outputs": [
    {
     "name": "stderr",
     "output_type": "stream",
     "text": [
      "[nltk_data] Downloading package stopwords to\n",
      "[nltk_data]     C:\\Users\\paten\\AppData\\Roaming\\nltk_data...\n",
      "[nltk_data]   Package stopwords is already up-to-date!\n"
     ]
    },
    {
     "data": {
      "text/plain": [
       "True"
      ]
     },
     "execution_count": 24,
     "metadata": {},
     "output_type": "execute_result"
    }
   ],
   "source": [
    "import nltk\n",
    "nltk.download('stopwords')"
   ]
  },
  {
   "cell_type": "code",
   "execution_count": 25,
   "metadata": {},
   "outputs": [
    {
     "name": "stdout",
     "output_type": "stream",
     "text": [
      "['i', 'me', 'my', 'myself', 'we', 'our', 'ours', 'ourselves', 'you', \"you're\", \"you've\", \"you'll\", \"you'd\", 'your', 'yours', 'yourself', 'yourselves', 'he', 'him', 'his', 'himself', 'she', \"she's\", 'her', 'hers', 'herself', 'it', \"it's\", 'its', 'itself', 'they', 'them', 'their', 'theirs', 'themselves', 'what', 'which', 'who', 'whom', 'this', 'that', \"that'll\", 'these', 'those', 'am', 'is', 'are', 'was', 'were', 'be', 'been', 'being', 'have', 'has', 'had', 'having', 'do', 'does', 'did', 'doing', 'a', 'an', 'the', 'and', 'but', 'if', 'or', 'because', 'as', 'until', 'while', 'of', 'at', 'by', 'for', 'with', 'about', 'against', 'between', 'into', 'through', 'during', 'before', 'after', 'above', 'below', 'to', 'from', 'up', 'down', 'in', 'out', 'on', 'off', 'over', 'under', 'again', 'further', 'then', 'once', 'here', 'there', 'when', 'where', 'why', 'how', 'all', 'any', 'both', 'each', 'few', 'more', 'most', 'other', 'some', 'such', 'no', 'nor', 'not', 'only', 'own', 'same', 'so', 'than', 'too', 'very', 's', 't', 'can', 'will', 'just', 'don', \"don't\", 'should', \"should've\", 'now', 'd', 'll', 'm', 'o', 're', 've', 'y', 'ain', 'aren', \"aren't\", 'couldn', \"couldn't\", 'didn', \"didn't\", 'doesn', \"doesn't\", 'hadn', \"hadn't\", 'hasn', \"hasn't\", 'haven', \"haven't\", 'isn', \"isn't\", 'ma', 'mightn', \"mightn't\", 'mustn', \"mustn't\", 'needn', \"needn't\", 'shan', \"shan't\", 'shouldn', \"shouldn't\", 'wasn', \"wasn't\", 'weren', \"weren't\", 'won', \"won't\", 'wouldn', \"wouldn't\"]\n"
     ]
    }
   ],
   "source": [
    "from nltk.corpus import stopwords\n",
    "# fileids = stopwords.fileids()\n",
    "# print(\"지원 언어 개수 : {}\".format(len(fileids)))\n",
    "# print(\"지원 언어 목록 : {}\".format(fileids))\n",
    "\n",
    "# stopwords for english\n",
    "listStopWords = stopwords.words('english') \n",
    "print(listStopWords)"
   ]
  },
  {
   "cell_type": "code",
   "execution_count": 6,
   "metadata": {},
   "outputs": [],
   "source": [
    "# # 소문자로 변환하면서 string 타입으로 통일 완료\n",
    "# doc_Dornasealf = str(documents['Dornasealf'])\n",
    "# doc_Lepirudin = str(documents['Lepirudin'])\n",
    "# doc_Ximelagatr = str(documents['Ximelagatr'])\n"
   ]
  },
  {
   "cell_type": "code",
   "execution_count": 68,
   "metadata": {
    "scrolled": true
   },
   "outputs": [],
   "source": [
    "# Tokenize (소문자로 통합)\n",
    "from nltk.tokenize import word_tokenize\n",
    "from nltk.tokenize import WordPunctTokenizer  \n",
    "from nltk.tokenize import TreebankWordTokenizer\n",
    "# token_Dornasealf = word_tokenize(doc_Dornasealf)\n",
    "# token_Lepirudin = word_tokenize(doc_Lepirudin)\n",
    "# toekn_Ximelagatr = word_tokenize(doc_Ximelagatr)\n",
    "\n",
    "# token_Dornasealf = WordPunctTokenizer().tokenize(doc_Dornasealf)\n",
    "# token_Lepirudin = WordPunctTokenizer().tokenize(doc_Lepirudin)\n",
    "# toekn_Ximelagatr = WordPunctTokenizer().tokenize(doc_Ximelagatr)\n",
    "\n",
    "\n",
    "tokenizer = TreebankWordTokenizer()\n",
    "token_doc = dict()\n",
    "for key in documents.keys():\n",
    "     token_doc[key] = tokenizer.tokenize(documents[key])\n",
    "\n",
    "# token_Dornasealf = tokenizer.tokenize(doc_Dornasealf)\n",
    "# token_Lepirudin = tokenizer.tokenize(doc_Lepirudin)\n",
    "# toekn_Ximelagatr = tokenizer.tokenize(doc_Ximelagatr)"
   ]
  },
  {
   "cell_type": "code",
   "execution_count": 89,
   "metadata": {},
   "outputs": [],
   "source": [
    "# token_doc =  [token_Dornasealf, token_Lepirudin, toekn_Ximelagatr]\n",
    "#Stopwords 제거\n",
    "token_wo_stopword = dict()\n",
    "token_wo_stopword_list = [[word for word in token_doc[key] if not word in listStopWords] for key in token_doc.keys()]\n",
    "\n",
    "drug_keys = token_doc.keys()\n",
    "for i, key in enumerate(drug_keys):\n",
    "    token_wo_stopword[key] = token_wo_stopword_list[i]\n",
    "    \n"
   ]
  },
  {
   "cell_type": "code",
   "execution_count": 99,
   "metadata": {},
   "outputs": [],
   "source": [
    "# Stemming(어간 추출)\n",
    "from nltk.stem import PorterStemmer\n",
    "\n",
    "pst = PorterStemmer()\n",
    "token_stemmed = [[pst.stem(word) for word in token_wo_stopword[key]] for key in token_wo_stopword.keys()]\n",
    "\n",
    "drug_keys = token_wo_stopword.keys()\n",
    "token_result = dict()\n",
    "for i, key in enumerate(drug_keys):\n",
    "    token_result[key] = token_stemmed[i]\n"
   ]
  },
  {
   "cell_type": "code",
   "execution_count": 163,
   "metadata": {},
   "outputs": [],
   "source": [
    "from sklearn.cluster import KMeans\n",
    "from gensim.models.doc2vec import Doc2Vec, TaggedDocument\n",
    "\n",
    "texts_and_tags = [\n",
    "    (token_result[key], [key,]) for key in token_result.keys()\n",
    "]\n",
    "\n",
    "# TRAIN_documents = [TaggedDocument(words=token_result[key], tags=list(key)) for key in token_result.keys()]\n",
    "TRAIN_documents = [TaggedDocument(words=text, tags=tags) for text, tags in texts_and_tags]\n"
   ]
  },
  {
   "cell_type": "code",
   "execution_count": 165,
   "metadata": {},
   "outputs": [],
   "source": [
    "# Doc2Vec Training\n",
    "model = Doc2Vec(TRAIN_documents, vector_size=5, window=3, epochs=40, min_count=0, workers=4)"
   ]
  },
  {
   "cell_type": "code",
   "execution_count": 173,
   "metadata": {},
   "outputs": [
    {
     "name": "stdout",
     "output_type": "stream",
     "text": [
      "tags: ['Dornasealf']\n",
      "trained_doc_vec: [  5.2264137 -15.904192  -23.52891     3.0576823  -0.9176543]\n",
      "inferred_doc_vec: [  5.596714  -19.31472   -29.191412    4.1562324  -1.4410865]\n",
      "----------------------------------------\n",
      "tags: ['Lepirudin']\n",
      "trained_doc_vec: [25.098831   1.397514  -9.162479   5.8253164 -3.6615763]\n",
      "inferred_doc_vec: [ 30.193102    2.4087029 -11.23565     7.26047    -4.5614214]\n",
      "----------------------------------------\n",
      "tags: ['Ximelagatr']\n",
      "trained_doc_vec: [  9.8943815 -17.480017    1.9867557  18.780296   -4.145197 ]\n",
      "inferred_doc_vec: [ 11.509954  -21.852789    2.975305   22.521866   -4.5670505]\n",
      "----------------------------------------\n"
     ]
    }
   ],
   "source": [
    "# Accesing vector\n",
    "doc_vec = dict()\n",
    "\n",
    "for text, tags in texts_and_tags:\n",
    "    trained_doc_vec = model.docvecs[tags[0]]\n",
    "    inferred_doc_vec = model.infer_vector(text)\n",
    "    doc_vec[tags[0]] = [trained_doc_vec, inferred_doc_vec]\n",
    "    \n",
    "#     print(f\"tags: {tags}, text: {text}\")\n",
    "    print(f\"tags: {tags}\")\n",
    "    print(f\"trained_doc_vec: {trained_doc_vec}\")\n",
    "    print(f\"inferred_doc_vec: {inferred_doc_vec}\")\n",
    "    print(\"--\"*20)"
   ]
  },
  {
   "cell_type": "code",
   "execution_count": 181,
   "metadata": {},
   "outputs": [
    {
     "name": "stdout",
     "output_type": "stream",
     "text": [
      "dor_lepi:  0.5919299721717834\n",
      "dor_xime:  0.5868140459060669\n",
      "lepi_xime:  0.6061707735061646\n"
     ]
    }
   ],
   "source": [
    "# return_docs = model.docvecs.most_similar(positive=[inferred_vector],topn=5)\n",
    "from scipy import spatial\n",
    "\n",
    "dor_lepi = spatial.distance.cosine(doc_vec['Dornasealf'][1], doc_vec['Lepirudin'][1])\n",
    "dor_xime = spatial.distance.cosine(doc_vec['Dornasealf'][1], doc_vec['Ximelagatr'][1])\n",
    "lepi_xime = spatial.distance.cosine(doc_vec['Lepirudin'][1], doc_vec['Ximelagatr'][1])\n",
    "\n",
    "print('dor_lepi: ', dor_lepi)\n",
    "print('dor_xime: ', dor_xime)\n",
    "print('lepi_xime: ', lepi_xime)\n",
    "# for i in enumerate(doc_vec.keys()):\n",
    "#     print(i)\n",
    "#     spatial.distance.cosine(doc_vec[i][1], doc_vec[i+1][1])"
   ]
  },
  {
   "cell_type": "code",
   "execution_count": 171,
   "metadata": {},
   "outputs": [
    {
     "name": "stdout",
     "output_type": "stream",
     "text": [
      "############################################################\n",
      "K-Means Clustering\n",
      "############################################################\n",
      "Cluster 0\n",
      "['[', '``', 'dornase-alfa', 'cystic', 'fibrosis.', 'dornase-alfa', 'current', 'use', 'mucolyt', 'treat', 'pulmonari', 'diseas', '(', 'major', 'caus', 'morbid', 'mortal', ')', 'cystic', 'fibrosis.', 'reduc', 'mucu', 'viscos', 'lung', ',', 'promot', 'improv', 'clearanc', 'secretions.', 'updat', 'previous', 'publish', 'review.', 'determin', 'whether', 'use', 'dornase-alfa', 'cystic', 'fibrosi', 'associ', 'improv', 'mortal', 'morbid', 'compar', 'placebo', 'medic', 'improv', 'airway', 'clearanc', ',', 'identifi', 'advers', 'event', 'associ', 'use.', 'search', 'cochran', 'cystic', 'fibrosi', 'genet', 'disord', 'group', 'trial', 'regist', 'compris', 'refer', 'identifi', 'comprehens', 'electron', 'databas', 'search', ',', 'handsearch', 'relev', 'journal', 'abstract', 'conferences.', 'date', 'recent', 'search', 'group', \"'s\", 'cystic', 'fibrosi', 'regist', ':', '23', 'april', '2018.clinicaltrials.gov', 'intern', 'clinic', 'trial', 'registri', 'platform', 'also', 'search', 'identifi', 'unpublish', 'ongo', 'trials.', 'date', 'recent', 'search', ':', '07', 'june', '2018.', 'randomis', 'quasi-randomis', 'control', 'trial', 'compar', 'dornase-alfa', 'placebo', ',', 'standard', 'therapi', 'medic', 'improv', 'airway', 'clearance.', 'author', 'independ', 'assess', 'trial', 'inclus', 'criteria', ';', 'two', 'author', 'carri', 'analysi', 'methodolog', 'qualiti', 'data', 'extraction.', 'grade', 'use', 'assess', 'level', 'evidence.', 'search', 'identifi', '69', 'trial', ',', '19', '(', '2565', 'particip', ')', 'met', 'inclus', 'criteria.', 'fifteen', 'trial', 'compar', 'dornase-alfa', 'placebo', 'dornase-alfa', '(', '2447', 'particip', ')', ';', 'two', 'compar', 'daili', 'dornas', 'hyperton', 'salin', '(', '32', 'particip', ')', ';', 'one', 'compar', 'daili', 'dornase-alfa', 'hyperton', 'salin', 'altern', 'day', 'dornase-alfa', '(', '48', 'particip', ')', ';', 'one', 'compar', 'dornase-alfa', 'mannitol', 'combin', 'drug', '(', '38', 'particip', ')', '.', 'trial', 'durat', 'vari', 'six', 'day', 'three', 'years.dornase-alfa', 'compar', 'placebo', 'treatmentdornase-alfa', 'improv', 'forc', 'expiratori', 'volum', 'one', 'second', 'one', 'month', '(', 'four', 'trial', ',', '248', 'particip', ')', ',', 'three', 'month', '(', 'one', 'trial', ',', '320', 'particip', ';', 'moderate-qu', 'evid', ')', ',', 'six', 'month', '(', 'one', 'trial', ',', '647', 'particip', ';', 'high-qual', 'evid', ')', 'two', 'year', '(', 'one', 'trial', ',', '410', 'particip', ')', '.', 'limit', 'low-qual', 'evid', 'show', 'differ', 'group', 'chang', 'qualiti', 'life.', 'decreas', 'pulmonari', 'exacerb', 'dornase-alfa', 'trial', 'two', 'year', '(', 'moderate-qu', 'evid', ')', '.', 'one', 'trial', 'examin', 'cost', 'care', ',', 'includ', 'cost', 'dornase-alfa', ',', 'found', 'cost', 'save', 'dornase-alfa', 'offset', '18', '%', '38', '%', 'medic', 'costs.dornase-alfa', ':', 'daili', 'versu', 'altern', 'dayon', 'cross-ov', 'trial', '(', '43', 'children', ')', 'found', 'differ', 'treatment', 'regimen', 'lung', 'function', ',', 'qualiti', 'life', 'pulmonari', 'exacerb', '(', 'low-qual', 'evid', ')', '.dornase-alfa', 'compar', 'medic', 'improv', 'airway', 'clearanceresult', 'comparison', 'mixed.', 'one', 'trial', '(', '43', 'children', ')', 'show', 'greater', 'improv', 'forc', 'expiratori', 'volum', 'one', 'second', 'dornase-alfa', 'compar', 'hyperton', 'salin', '(', 'low-qual', 'evid', ')', ',', 'one', 'trial', '(', '23', 'particip', ')', 'report', 'differ', 'lung', 'function', 'dornase-alfa', 'mannitol', 'dornase-alfa', 'dornase-alfa', 'plu', 'mannitol', '(', 'low-qual', 'evid', ')', '.', 'one', 'trial', '(', '23', 'particip', ')', 'found', 'differ', 'qualiti', 'life', 'favour', 'dornase-alfa', 'compar', 'dornase-alfa', 'plu', 'mannitol', '(', 'low-qual', 'evid', ')', ';', 'comparison', 'found', 'differ', 'outcom', '(', 'low-qual', 'evid', ')', '.', 'trial', 'comparison', 'report', 'differ', 'group', 'number', 'pulmonari', 'exacerb', '(', 'low-qual', 'evid', ')', '.when', 'comparison', 'assess', ',', 'dornase-alfa', 'caus', 'significantli', 'advers', 'effect', 'treatment', ',', 'except', 'voic', 'alter', 'rash.', 'evid', 'show', ',', 'compar', 'placebo', ',', 'therapi', 'dornase-alfa', 'improv', 'lung', 'function', 'peopl', 'cystic', 'fibrosi', 'trial', 'last', 'one', 'month', 'two', 'years.', 'decreas', 'pulmonari', 'exacerb', 'trial', 'six', 'month', 'longer.', 'voic', 'alter', 'rash', 'appear', 'advers', 'event', 'report', 'increas', 'frequenc', 'randomis', 'control', 'trials.', 'enough', 'evid', 'firmli', 'conclud', 'dornase-alfa', 'superior', 'hyperosmolar', 'agent', 'improv', 'lung', 'function.', '``', ',', \"'dornase-alfa\", 'dornase-alfa', 'util', 'treatment', 'manag', 'cystic', 'fibrosi', '(', 'cf', ')', 'conjunct', 'standard', 'therapies.', 'dornase-alfa', 'discov', '1992', 'mucolyt', 'agent', 'treatment', 'hyper', 'viscou', 'mucou', 'produc', 'patient', 'cf', ',', 'notic', '1950', 'use', 'bovin', 'deoxyribonucleas', 'decreas', 'thick', 'sputum', 'cf', 'patients.', '[', '1', ']', \"'\", ',', '``', 'dornase-alfa', '(', 'pulmozym', ')', '.', 'dornase-alfa', '(', 'pulmozym', ')', 'one', 'commonli', 'use', 'medic', 'treat', 'lung', 'diseas', 'cystic', 'fibrosi', '(', 'cf', ')', '.', 'respiratori', 'medic', 'enter', 'clinic', 'market', ',', 'understand', 'proper', 'use', 'indic', 'dornase-alfa', 'increasingli', 'important.', 'addit', ',', 'dornase-alfa', 'use', 'treat', 'medic', 'conditions.', 'review', 'cover', 'recent', 'public', 'expand', 'indications.', 'understand', 'dornase-alfa', \"'s\", 'mechan', 'action', 'impact', 'pathophysiolog', 'cf', 'lead', 'improv', 'understand', 'optim', 'therapi', ',', 'way', 'improv', 'adher', 'use', 'medications.', 'importantli', ',', 'routin', 'use', 'dornase-alfa', 'associ', 'improv', 'lung', 'function', 'surviv', 'patient', 'cf.', 'outsid', 'cf', ',', 'potenti', 'use', 'includ', 'treat', 'patient', 'empyema', 'mechan', 'ventilation.', 'dornase-alfa', 'avail', 'clinic', 'use', 'nearli', '20', 'year', 'one', 'commonli', 'use', 'medic', 'patient', 'cf.', 'routin', 'use', 'associ', 'reduc', 'rate', 'pulmonari', 'deterior', 'improv', 'survival.', 'recent', 'clinic', 'report', 'suggest', 'dornase-alfa', 'may', 'clinic', 'valu', 'medic', 'problem', 'complic', 'pneumonia', 'mechan', 'ventil', 'patient', 'atelectasis.', '``', ',', \"'use\", 'dornase-alfa', 'paediatr', 'intens', 'care', 'unit', ':', 'current', 'literatur', 'nation', 'cross-sect', 'survey.', 'airway', 'mucu', 'obstruct', 'major', 'challeng', 'children', 'admit', 'paediatr', 'intens', 'care', 'unit', '(', 'picu', ')', '.', 'aim', 'evalu', 'evid', 'contemporari', 'use', 'mucolyt', 'medic', 'dornase-alfa', 'non-cyst', 'fibrosi', 'condit', 'picu.', '(', '1', ')', 'perform', 'systemat', 'review', 'search', 'pubm', ',', 'embas', ',', 'cochran', 'library.', 'studi', 'select', ':', 'qualiti', 'assess', 'data', 'synthesi', ',', 'includ', 'randomis', 'control', 'trial', '(', 'rct', ')', 'compar', 'dornase-alfa', 'standard', 'care', 'placebo', 'critically-il', 'paediatr', 'patient', '(', '<', '18', 'year', 'age', ')', 'picu.', 'howev', ',', 'non-randomis', 'control', 'studi', 'case', 'seri', 'also', 'discussed.', 'data', 'extract', ':', 'data', 'extract', 'independ', 'multipl', 'review', 'use', 'data', 'extract', 'forms.', 'primari', 'outcom', 'durat', 'mechan', 'ventilation.', 'data', 'synthesi', ':', 'grade', 'approach', 'use', 'qualiti', 'assessment.', 'meta-analysi', 'could', 'performed.', '(', '2', ')', 'nation', 'cross-sect', 'survey', 'among', 'seven', 'picu', 'netherland', 'also', 'performed.', 'systemat', 'review', 'yield', 'one', 'rct', ',', 'compar', 'dornase-alfa', 'normal', 'salin', 'children', 'cardiac', 'surgery.', 'studi', ',', 'dornase-alfa', 'led', 'reduct', 'durat', 'mechan', 'ventil', 'approxim', '1', 'day', '(', '36', '%', 'reduct', ')', '.', 'addit', ',', 'found', 'nine', 'retrospect', 'observ', 'case', 'studies.', 'survey', 'reveal', 'high', 'current', 'use', 'dornase-alfa', 'dutch', 'picu', ':', '42', '%', 'respond', 'report', 'prescrib', 'dornase-alfa', 'least', 'everi', 'week.', '4', '%', 'respond', 'report', 'access', 'local', 'picu', 'dornase-alfa', 'protocol.', 'off-label', 'use', 'dornase-alfa', 'picu', 'frequent', 'without', 'strong', 'evid', 'local', 'protocol', ',', 'highlight', 'need', 'research', 'effect', 'mucolyt', 'agent.', \"'\", ',', \"'nebul\", 'in-lin', 'endotrach', 'dornase-alfa', 'albuterol', 'administ', 'mechan', 'ventil', 'covid-19', 'patient', ':', 'case', 'series.', 'background', 'mechan', 'ventil', 'patient', 'coronaviru', 'diseas', '2019', '(', 'covid-19', ')', 'mortal', '24-53', '%', ',', 'part', 'due', 'distal', 'mucopurul', 'secret', 'interf', 'ventilation.', 'dornase-alfa', 'recombin', 'human', 'dnase', '1', 'digest', 'dna', 'mucoid', 'sputum.', 'nebul', 'dornase-alfa', 'fda-approv', 'cystic', 'fibrosi', 'treatment.', 'dna', 'neutrophil', 'extracellular', 'trap', '(', 'net', ')', 'contribut', 'viscos', 'mucopurul', 'secretions.', 'net', 'found', 'serum', 'patient', 'sever', 'covid-19', ',', 'target', 'net', 'reduc', 'mortal', 'anim', 'model', 'acut', 'respiratori', 'distress', 'syndrom', '(', 'ard', ')', '.', 'thu', ',', 'dornase-alfa', 'may', 'benefici', 'patient', 'sever', 'covid-19', ',', 'act', 'mucolyt', 'target', 'nets.', 'howev', ',', 'deliveri', 'nebul', 'drug', 'aerosol', 'sars-cov-2', ',', 'caus', 'covid-19', ',', 'increas', 'infect', 'risk', 'staff.', ',', 'report', 'singl', 'center', 'case', 'seri', 'dornase-alfa', 'administ', 'in-lin', 'nebul', 'system', 'minim', 'risk', 'viru', 'aerosolization.', 'method', 'demograph', ',', 'clinic', 'data', ',', 'outcom', 'collect', 'electron', 'medic', 'record', 'five', 'mechan', 'ventil', 'patient', 'covid-19', ',', 'includ', 'three', 'requir', 'veno-ven', 'extracorpor', 'membran', 'oxygen', '(', 'vv-ecmo', ')', ',', 'treat', 'nebul', 'in-lin', 'endotrach', 'dornase-alfa', 'co-administ', 'albuterol', '(', 'use', 'increas', 'deliveri', 'alveoli', ')', ',', 'march', '31', 'april', '24', ',', '2020.', 'data', 'toler', 'respons', ',', 'includ', 'longitudin', 'valu', 'captur', 'respiratori', 'function', 'inflammatori', 'statu', ',', 'analyzed.', 'result', 'follow', 'nebul', 'in-lin', 'administr', 'dornase-alfa', 'albuterol', ',', 'fraction', 'inspir', 'oxygen', 'requir', 'reduc', 'five', 'patients.', 'patient', 'remain', 'aliv', 'two', 'patient', 'discharg', 'intens', 'care', 'unit.', 'drug', 'associ', 'toxic', 'identified.', 'conclus', 'result', 'present', 'case', 'seri', 'suggest', 'dornase-alfa', 'well-toler', 'critic', 'ill', 'patient', 'covid-19.', 'clinic', 'trial', 'requir', 'formal', 'test', 'dose', ',', 'safeti', ',', 'efficaci', 'dornase-alfa', 'covid-19', ',', 'two', 'recent', 'regist', '(', 'nct04359654', 'nct04355364', ')', '.', 'case', 'seri', ',', 'hope', 'contribut', 'develop', 'manag', 'approach', 'critic', 'ill', 'patient', 'covid-19.', \"'\", ',', '``', 'dornase-alfa', 'inform', 'avail', 'clinic', 'use', 'dornas', 'alpha', '(', 'hamster', ')', 'breastfeeding.', 'larg', 'protein', 'molecul', 'molecular', 'weight', '37,000', ',', 'amount', 'milk', 'like', 'low', 'absorpt', 'unlik', 'probabl', 'destroy', 'infant', \"'s\", 'gastrointestin', 'tract.', 'task', 'forc', 'respiratori', 'expert', 'europ', ',', 'australia', 'new', 'zealand', 'found', 'dornase-alfa', 'compat', 'breastfeeding.', '[', '1', ']', '``', ',', \"'consider\", 'dornase-alfa', 'treatment', 'sever', 'covid-19', 'acut', 'respiratori', 'distress', 'syndrome.', 'propos', 'like', 'contribut', 'sever', 'covid-19', 'morbid', 'extracellular', 'dna', 'neutrophil', 'extracellular', 'trap', '(', 'net', ')', '.', 'dornase-alfa', 'degrad', 'extracellular', 'dna', 'reduc', 'mucu', 'rigid', 'accumul', ',', 'associ', 'respiratori', 'improv', 'first', 'patient.', 'dornase-alfa', 'consid', 'clinic', 'trial', 'treatment', 'sever', 'covid-19.', \"'\", ',', '``', 'dornase-alfa', 'cystic', 'fibrosis.', 'dornase-alfa', 'current', 'use', 'mucolyt', 'treat', 'pulmonari', 'diseas', '(', 'major', 'caus', 'morbid', 'mortal', ')', 'cystic', 'fibrosis.', 'reduc', 'mucu', 'viscos', 'lung', ',', 'promot', 'improv', 'clearanc', 'secretions.', 'updat', 'previous', 'publish', 'review.', 'determin', 'whether', 'use', 'dornase-alfa', 'cystic', 'fibrosi', 'associ', 'improv', 'mortal', 'morbid', 'compar', 'placebo', 'medic', 'improv', 'airway', 'clearanc', ',', 'identifi', 'advers', 'event', 'associ', 'use.', 'search', 'cochran', 'cystic', 'fibrosi', 'genet', 'disord', 'group', 'trial', 'regist', 'compris', 'refer', 'identifi', 'comprehens', 'electron', 'databas', 'search', ',', 'handsearch', 'relev', 'journal', 'abstract', 'conferences.', 'date', 'recent', 'search', 'group', \"'s\", 'cystic', 'fibrosi', 'regist', ':', '30', 'novemb', '2015.clinicaltrials.gov', 'also', 'search', 'identifi', 'unpublish', 'ongo', 'trials.', 'date', 'recent', 'search', ':', '28', 'novemb', '2015.', 'randomis', 'quasi-randomis', 'control', 'trial', 'compar', 'dornase-alfa', 'placebo', ',', 'standard', 'therapi', 'medic', 'improv', 'airway', 'clearance.', 'author', 'independ', 'assess', 'trial', 'inclus', 'criteria', ';', 'two', 'author', 'carri', 'analysi', 'methodolog', 'qualiti', 'data', 'extraction.', 'search', 'identifi', '54', 'trial', ',', '19', '(', 'includ', 'total', '2565', 'particip', ')', 'met', 'inclus', 'criteria.', 'three', 'addit', 'paper', 'examin', 'healthcar', 'cost', 'one', 'clinic', 'trials.', 'fifteen', 'trial', 'compar', 'dornase-alfa', 'placebo', 'dornase-alfa', 'treatment', '(', '2447', 'particip', ')', ';', 'two', 'compar', 'daili', 'dornas', 'hyperton', 'salin', '(', '32', 'particip', ')', ';', 'one', 'compar', 'daili', 'dornase-alfa', 'hyperton', 'salin', 'altern', 'day', 'dornase-alfa', '(', '48', 'particip', ')', ';', 'one', 'compar', 'dornase-alfa', 'mannitol', 'combin', 'drug', '(', '38', 'particip', ')', '.', 'trial', 'durat', 'vari', 'six', 'day', 'three', 'years.compar', 'placebo', ',', 'forc', 'expiratori', 'volum', 'one', 'second', 'improv', 'intervent', 'group', ',', 'signific', 'differ', 'one', ',', 'three', ',', 'six', 'month', 'two', 'years.', 'also', 'signific', 'improv', 'lung', 'clearanc', 'index', 'one', 'month.', 'decreas', 'pulmonari', 'exacerb', 'compar', 'placebo', 'trial', 'longer', 'duration.', 'qualiti', 'evid', 'placebo-control', 'trial', 'moder', 'high', 'outcom', 'lung', 'function', 'pulmonari', 'exacerbations.', 'limit', ',', 'low', 'qualiti', 'evid', 'avail', 'chang', 'qualiti', 'life', 'baseline.', 'one', 'trial', 'examin', 'cost', 'care', ',', 'includ', 'cost', 'dornase-alfa', ',', 'found', 'cost', 'save', 'dornase-alfa', 'offset', '18', '%', '38', '%', 'medic', 'costs.th', 'result', 'trial', 'compar', 'dornase-alfa', 'medic', 'improv', 'airway', 'clearanc', '(', 'hyperton', 'salin', 'mannitol', ')', 'mix', ',', 'one', 'trial', 'show', 'greater', 'improv', 'forc', 'expiratori', 'volum', 'one', 'second', 'dornase-alfa', 'compar', 'hyperton', 'salin', ',', 'three', 'trial', 'find', 'differ', 'medications.', 'trial', 'assess', 'combin', 'dornase-alfa', 'anoth', 'medic', 'compar', 'dornas', 'alon', ',', 'benefit', 'seen', 'combin', 'dornase-alfa', 'mannitol.', 'evid', 'dornase-alfa', 'compar', 'medic', 'limit', 'open-label', 'design', 'trial', 'may', 'induc', 'bia', ',', 'therefor', 'qualiti', 'evid', 'judg', 'low.dornase-alfa', 'caus', 'significantli', 'advers', 'effect', ',', 'except', 'voic', 'alter', 'rash.', 'evid', 'show', ',', 'compar', 'placebo', ',', 'therapi', 'dornase-alfa', 'improv', 'lung', 'function', 'peopl', 'cystic', 'fibrosi', 'trial', 'last', 'one', 'month', 'two', 'years.', 'decreas', 'pulmonari', 'exacerb', 'trial', 'six', 'month', 'longer.', 'voic', 'alter', 'rash', 'appear', 'advers', 'event', 'report', 'increas', 'frequenc', 'randomis', 'control', 'trials.', 'enough', 'evid', 'firmli', 'conclud', 'dornase-alfa', 'superior', 'hyperosmolar', 'agent', 'improv', 'lung', 'function.', '``', ',', \"'time\", 'dornase-alfa', 'inhal', 'cystic', 'fibrosis.', 'inhal', 'enzym', 'dornase-alfa', 'reduc', 'sputum', 'viscos', 'improv', 'clinic', 'outcom', 'peopl', 'cystic', 'fibrosis.', 'updat', 'previous', 'publish', 'cochran', 'review.', 'determin', 'effect', 'time', 'dornase-alfa', 'inhal', 'measur', 'clinic', 'efficaci', 'peopl', 'cystic', 'fibrosi', '(', 'relat', 'airway', 'clearanc', 'techniqu', 'time', 'day', ')', '.', 'relev', 'randomis', 'quasi-randomis', 'control', 'trial', 'identifi', 'cochran', 'cystic', 'fibrosi', 'trial', 'regist', ',', 'physiotherapi', 'evid', 'databas', '(', 'pedro', ')', ',', 'intern', 'cystic', 'fibrosi', 'confer', 'proceedings.d', 'recent', 'search', ':', '25', 'april', '2016.', 'trial', 'dornase-alfa', 'peopl', 'cystic', 'fibrosi', 'time', 'inhal', 'randomis', 'element', 'studi', 'either', ':', 'inhal', 'compar', 'airway', 'clearanc', 'techniqu', ';', 'morn', 'compar', 'even', 'inhalation.', 'author', 'independ', 'select', 'trial', ',', 'assess', 'risk', 'bia', 'extract', 'data', 'disagr', 'resolv', 'discussion.', 'relev', 'data', 'extract', ',', 'possibl', ',', 'meta-analysed.', 'identifi', '115', 'trial', 'report', 'repres', '55', 'studi', ',', 'five', 'studi', '(', 'provid', 'data', '122', 'particip', ')', 'met', 'inclus', 'criteria.', 'five', 'studi', 'use', 'cross-ov', 'design.', 'intervent', 'period', 'rang', 'two', 'eight', 'weeks.', 'four', 'trial', 'compar', 'dornase-alfa', 'inhal', 'versu', 'airway', 'clearanc', 'techniques.', 'inhal', 'instead', 'airway', 'clearanc', 'significantli', 'chang', 'forc', 'expiratori', 'volum', 'one', 'second.', 'similarli', ',', 'forc', 'vital', 'capac', 'qualiti', 'life', 'significantli', 'affect', ';', 'forc', 'expiratori', 'flow', '25', '%', 'significantli', 'wors', 'dornase-alfa', 'inhal', 'airway', 'clearanc', ',', 'mean', 'differ', '-0.17', 'litr', '(', '95', '%', 'confid', 'interv', '-0.28', '-0.05', ')', ',', 'base', 'pool', 'data', 'two', 'small', 'studi', 'children', '(', 'seven', '19', 'year', ')', 'well-preserv', 'lung', 'function.', 'secondari', 'outcom', 'statist', 'non-significant.in', 'one', 'trial', ',', 'morn', 'versu', 'even', 'inhal', 'impact', 'lung', 'function', 'symptoms.', 'current', 'evid', 'deriv', 'small', 'number', 'particip', 'indic', 'inhal', 'dornase-alfa', 'airway', 'clearanc', 'techniqu', 'less', 'effect', 'tradit', 'recommend', 'inhal', 'nebulis', 'dornase-alfa', '30', 'minut', 'prior', 'airway', 'clearanc', 'techniqu', ',', 'outcomes.', 'children', 'well-preserv', 'lung', 'function', ',', 'inhal', 'airway', 'clearanc', 'may', 'benefici', 'small', 'airway', 'function', 'inhal', 'after.', 'howev', ',', 'result', 'reli', 'measur', 'high', 'variabl', 'studi', 'variabl', 'follow', 'up.', 'absenc', 'strong', 'evid', 'indic', 'one', 'time', 'regimen', 'better', 'anoth', ',', 'time', 'dornas', 'alpha', 'inhal', 'larg', 'base', 'pragmat', 'reason', 'individu', 'prefer', 'respect', 'time', 'airway', 'clearanc', 'time', 'day.\\\\xa0furth', 'research', 'warranted.', \"'\", ',', '``', '[', 'immunoenzym', 'method', 'determin', 'o-antigen', 'sonn', \"'s\", 'shigella', 'use', 'affin', 'isol', 'antibodi', ']', '.', 'sensit', 'elisa', 'system', 'assay', 'shigella', 'sonnei', 'o-antigen', ',', 'develop', 'basi', 'specif', 'rabbit', 'antibodi', 'isol', 'antisera', 'differ', 'chromatographi', 'techniqu', 'compared.', 'highest', 'specif', 'sensit', 'o-antigen', 'determin', '(', '0.5-1', 'ng/ml', ')', 'achiev', 'use', 'affinity-isol', 'antibodi', 'o-antigen.', 'clinic', 'trial', 'elisa', 'system', 'carri', 'out.', '``', ']']\n",
      "------------------------------------------------------------\n",
      "Cluster 1\n",
      "['[', \"'lepirudin\", 'lepirudin', 'longer', 'market', 'unit', 'states.', 'limit', 'inform', 'indic', 'lepirudin', 'dose', '100', 'mg', 'daili', 'produc', 'low', 'level', 'milk.', 'larg', 'molecular', 'weight', ',', 'would', 'expect', 'absorb', 'breastmilk', 'infant.', 'lepirudin', 'would', 'expect', 'caus', 'advers', 'effect', 'breastf', 'infant', ',', 'especi', 'infant', 'older', '2', 'months.', '[', '1', ']', \"'\", ',', \"'comparison\", 'argatroban', 'lepirudin', 'bivalirudin', 'treatment', 'heparin-induc', 'thrombocytopenia', ':', 'systemat', 'review', 'meta-analysis.', 'prevent', 'thromboembol', 'event', 'associ', 'heparin-induc', 'thrombocytopenia', '(', 'hit', ')', ',', 'patient', 'usual', 'treat', 'argatroban', ',', 'lepirudin', ',', 'bivalirudin.', ',', 'conduct', 'meta-analysi', 'studi', 'compar', 'treatment', 'hit', 'follow', 'direct', 'thrombin', 'inhibitor', ':', 'argatroban', 'versu', 'lepirudin', 'argatroban', 'versu', 'bivalirudin.', 'systemat', 'search', 'pubm', ',', 'embas', ',', 'cochran', 'librari', 'databas', 'relev', 'studies.', 'clinic', 'outcom', 'thromboembol', 'complic', 'bleeding.', 'total', '589', 'articl', 'found', '9', 'final', 'includ', 'meta-analysis.', 'significantli', 'differ', 'thromboembol', 'complic', 'argatroban', 'hirudin', 'analogu', '(', 'lepirudin', 'bivalirudin', ')', 'treatment', 'hit', '(', 'lepirudin', ':', 'rr\\\\xa0=\\\\xa00.773', ',', '95', '%', 'ci\\\\xa0=\\\\xa00.449-1.331', ',', 'p\\\\xa0=\\\\xa00.353', ';', 'bivalirudin', ':', 'rr\\\\xa0=\\\\xa00.768', ',', '95', '%', 'ci\\\\xa0=\\\\xa00.386-1.527', ',', 'p\\\\xa0=\\\\xa00.452', ')', '.', 'moreov', ',', 'incid', 'clinic', 'bleed', 'argatroban', 'similar', 'hirudin', 'analogu', '(', 'lepirudin', ':', 'rr\\\\xa0=\\\\xa00.755', ',', '95', '%', 'ci\\\\xa0=\\\\xa00.531-1.073', ',', 'p\\\\xa0=\\\\xa00.117', ';', 'bivalirudin', ':', 'rr\\\\xa0=\\\\xa00.995', ',', '95', '%', 'ci\\\\xa0=\\\\xa00.673-1.472', ',', 'p\\\\xa0=\\\\xa00.981', ')', '.', 'current', 'evid', 'show', 'argatroban', 'similar', 'effect', 'safeti', 'lepirudin', 'bivalirudin', 'defend', 'hit.', \"'\", ',', \"'lepirudin\", 'manag', 'heparin-induc', 'thrombocytopenia.', 'lepirudin', 'recombin', 'hirudin', 'exert', 'anticoagul', 'effect', 'direct', 'inhibit', 'thrombin.', 'lepirudin', 'indic', 'anticoagul', 'patient', 'heparin-induc', 'thrombocytopenia', '(', 'hit', ')', 'associ', 'thromboembol', 'diseas', 'prevent', 'thromboembol', 'complications.', 'review', 'address', 'variou', 'clinic', 'use', 'lepirudin', 'includ', 'limit', 'fda', 'approv', 'indication.', 'object', 'provid', 'updat', 'overview', 'clinic', 'use', 'pharmacolog', 'agent.', 'addit', ',', 'address', 'certain', 'area', 'controversi', 'especi', 'pertain', 'dose', 'lepirudin', 'use', 'differ', 'clinic', 'situations.', 'literatur', 'review', 'use', 'appropri', 'search', 'term', 'pubm', 'ovid', 'medlin', 'databases.', 'lepirudin', 'continu', 'valuabl', 'anticoagul', 'manag', 'hit.', 'lepirudin', 'highest', 'recommend', 'treatment', 'hit', 'base', 'evid', 'clinic', 'trials.', 'minor', 'modif', 'dose', 'standard', 'label', 'recommend', 'may', 'simplifi', 'use', 'enhanc', 'safety.', \"'\", ',', \"'lepirudin\", ':', 'bival', 'direct', 'thrombin', 'inhibitor', 'anticoagul', 'therapy.', 'lepirudin', '(', 'refludan', ')', ',', 'berlex', 'laboratori', ',', 'usa', 'canada', ';', 'pharmion', ',', 'countri', ')', ',', 'recombin', 'deriv', 'natur', 'occur', 'leech', 'anticoagul', 'hirudin', ',', 'first', 'direct', 'thrombin', 'inhibitor', 'approv', 'european', 'agenc', 'evalu', 'medicin', 'product', 'us', 'food', 'drug', 'administr', 'treatment', 'heparin-induc', 'thrombocytopenia.', 'sinc', 'introduct', 'europ', 'usa', ',', 'studi', '7000', 'patient', 'requir', 'anticoagul', 'condit', 'includ', 'acut', 'coronari', 'syndrom', ',', 'percutan', 'coronari', 'intervent', ',', 'cardiopulmonari', 'bypass', 'heparin-induc', 'thrombocytopenia.', 'three', 'european', 'clinic', 'trial', ',', 'design', 'heparin-associ', 'thrombocytopenia', '(', 'hat', ')', '-1', ',', '-2', '-3', ',', 'demonstr', 'efficaci', 'safeti', 'lepirudin', 'prevent', 'treatment', 'thrombosi', 'patient', 'antibody-confirm', 'heparin-induc', 'thrombocytopenia.', 'postmarket', ',', 'observ', 'studi', ',', 'term', 'drug-monitor', 'program', ',', 'evalu', 'lepirudin', '1000', 'patient', 'heparin-induc', 'thrombocytopenia', 'set', 'routin', 'clinic', 'practice.', 'drug-monitor', 'program', ',', 'advers', 'event', 'substanti', 'reduc', 'compar', 'clinic', 'trial', ',', 'clinic', 'efficaci', 'maintain', ';', 'suggest', 'insight', 'gain', 'clinic', 'experi', 'translat', 'improv', 'safety.', ',', 'pharmacotherapi', 'use', 'lepirudin', 'review', ',', 'particular', 'refer', 'clinic', 'studi', 'heparin-induc', 'thrombocytopenia', ',', 'recommend', 'base', 'extens', 'clinic', 'experi', 'lepirudin', 'provided.', 'although', 'approv', 'treatment', 'heparin-induc', 'thrombocytopenia', ',', 'use', 'lepirudin', 'acut', 'coronari', 'syndrom', ',', 'percutan', 'coronari', 'intervent', ',', 'vascular', 'surgeri', 'coronari', 'arteri', 'bypass', 'graft', 'also', 'discussed.', 'review', 'conclud', 'discuss', 'pharmacokinet', 'clinic', 'data', 'support', 'potenti', 'subcutan', 'administr', 'lepirudin.', \"'\", ',', '``', 'remov', 'lepirudin', ',', 'recombin', 'hirudin', ',', 'hemodialysi', ',', 'hemofiltr', ',', 'plasmapheresis.', 'lepirudin', '(', 'recombin', 'hirudin', ')', ',', 'direct', 'thrombin', 'inhibitor', ',', 'effect', 'altern', 'method', 'anticoagul', 'patient', 'heparin-induc', 'thrombocytopenia.', 'howev', ',', 'elimin', 'kidney', ',', 'half-lif', 'lepirudin', 'may', 'substanti', 'prolong', 'patient', 'renal', 'failure.', 'patient', 'undergo', 'hemodialysi', 'must', 'close', 'monitor', ',', 'therapi', 'must', 'individu', 'base', 'patient', \"'s\", 'abil', 'clear', 'drug.', 'current', 'literatur', 'remov', 'lepirudin', 'dialysi', 'plasmapheresi', 'limit', ',', 'avail', 'data', 'suggest', 'lepirudin', 'remov', 'methods.', 'abil', 'filtrat', 'system', 'remov', 'lepirudin', 'blood', 'highli', 'depend', 'membran', 'materi', 'use', 'system.', 'understand', 'effect', 'hemodialysi', ',', 'hemofiltr', ',', 'plasmapheresi', 'lepirudin', 'level', 'import', ',', 'especi', 'sinc', 'antidot', 'avail', 'treat', 'elev', 'serum', 'lepirudin', 'concentrations.', '``', ',', \"'the\", 'direct', 'thrombin', 'inhibitor', 'dabigatran', 'lepirudin', 'inhibit', 'gpibα-medi', 'platelet', 'aggregation.', 'direct', 'thrombin', 'inhibitor', '(', 'dti', ')', 'dabigatran', 'non-vitamin', 'k', 'antagonist', 'oral', 'anticoagul', 'prevent', 'stroke', 'system', 'embol', 'patient', 'non-valvular', 'atrial', 'fibrillation.', 'addit', 'anti-thrombot', 'efficaci', ',', 'dabigatran', 'suggest', 'exert', 'pro-thrombot', 'effect', 'due', 'foster', 'ligat', 'thrombin', 'high', 'affin', 'platelet', 'receptor', 'glycoprotein', '(', 'gp', ')', 'ibα', 'patient', 'atrial', 'fibrillation.', 'hand', ',', 'provid', 'evid', 'member', 'anoth', 'class', 'dti', ',', 'lepirudin', ',', 'stimul', 'inhibitori', 'cyclic', 'guanosin', 'monophosph', '(', 'cgmp', ')', '/solubl', 'guanyl', 'cyclas', 'pathway', 'human', 'platelets.', ',', 'investig', 'effect', 'lepirudin', 'dabigatran', 'spike', 'platelet', 'healthi', 'volunt', 'gpibα-medi', 'platelet', 'aggreg', 'agglutination.', 'ristocetin/von', 'willebrand', 'factor', '(', 'vwf', ')', '-induc', 'aggreg', 'platelet', 'presenc', 'absenc', 'plasma', 'significantli', 'inhibit', 'lepirudin', ',', 'dabigatran', 'd-phenylalanyl-l-prolyl-l-arginin', 'chloromethyl', 'keton', '(', 'ppack', ')', '.', 'howev', ',', 'ristocetin/vwf-medi', 'platelet', 'agglutin', 'bind', 'vwf', 'platelet', 'affect', 'dtis.', 'anti-aggregatori', 'effect', 'confirm', 'use', 'gpibα-specif', 'agonist', 'echicetin', 'bead', 'human', 'murin', 'platelets.', 'dti', 'diminish', 'echicetin', 'beads-induc', 'syk', 'y352', 'phosphoryl', '(', 'use', 'readout', 'earli', 'signal', 'occur', 'echicetin-induc', 'platelet', 'aggreg', ')', ',', 'inhibit', 'adenosin', 'diphosphate-', 'thromboxan', 'a2-induc', 'platelet', 'aggregation.', 'thrombin', 'gener', 'respons', 'ristocetin/vwf', 'echicetin', 'bead', 'therefor', 'explain', 'inhibitori', 'effect', 'dtis.', 'therapeut', 'concentr', 'lepirudin', 'dabigatran', 'affect', 'significantli', 'platelet', 'vasodilator-stimul', 'phosphoprotein', 's239', 'phosphoryl', 'cgmp', 'cyclic', 'adenosin', 'monophosph', 'levels.', 'data', 'suggest', 'dti', ',', 'lepirudin', 'dabigatran', ',', 'impair', 'platelet', 'activ', 'measur', 'platelet', 'aggreg', 'induc', 'ristocetin/vwf', 'echicetin', 'beads.', \"'\", ',', \"'monitor\", 'argatroban', 'lepirudin', ':', 'input', 'laboratori', 'valu', '``', 'real', 'life', \"''\", '?', 'monitor', 'direct', 'thrombin', 'inhibitor', '(', 'dti', ')', 'patient', 'heparin-induc', 'thrombocytopenia', '(', 'hit', ')', 'primarili', 'perform', 'use', 'activ', 'partial', 'thromboplastin', 'time', '(', 'aptt', ')', '.', 'assay', 'poorli', 'standard', ',', 'reagent', 'depend', ',', 'dti', 'specific.', 'compar', 'aptt', ',', 'thrombin', 'time', '(', 'tt', ')', ',', 'prothrombin', 'time', '(', 'pt', ')', 'drug', 'level', 'obtain', 'ecarin', 'chromogen', 'assay', '(', 'eca', ')', '.', 'analyz', '495', 'sampl', 'patient', 'confirm', 'suspect', 'hit', 'treatment', 'either', 'argatroban', '(', 'n', '=', '37', ')', 'lepirudin', '(', 'n', '=', '80', ')', '.', 'mean', 'dti', 'level', '±', 'standard', 'deviat', '(', 'sd', ')', '0.41', '±', '0.36', 'µg/ml', 'argatroban', '0.20', '±', '0.21', 'µg/ml', 'lepirudin.', 'result', 'aptt', 'highli', 'variabl', ':', '67', '±', '22', 'second', 'argatroban', '55', '±', '20', 'second', 'lepirudin.', 'signific', 'correl', '(', 'p', '<', '.01', ')', 'found', 'eca-bas', 'dti', 'level', 'tt', '(', 'argatroban', ',', 'r', '=', '.820', 'lepirudin', ',', 'r', '=', '.830', ')', ',', 'pt', '(', 'argatroban', ',', 'r', '=', '-.544', ')', ',', 'aptt', '(', 'lepirudin', ',', 'r', '=', '.572', ')', '.', 'howev', ',', 'correl', 'aptt', 'argatroban', 'pt', 'lepirudin', 'concentration.', 'multipl', 'regress', 'analys', 'reveal', 'tt', 'predict', '54', '%', 'argatroban', '42', '%', 'lepirudin', 'level', ',', 'signific', 'impact', 'seen', 'pt', 'aptt.', 'aptt-guid', 'monitor', 'dti', 'therapi', 'lead', 'high', 'percentag', 'patient', 'inaccur', 'plasma', 'level', ',', 'henc', 'result', 'either', 'undertreat', 'overtreatment.', 'knowledg', 'baselin', 'valu', 'prior', 'dti', 'therapi', 'inclus', 'clinic', 'set', 'essenti', 'dose', 'dti', 'use', 'aptt.', 'howev', ',', 'due', 'sever', 'limit', 'aptt', ',', 'monitor', 'accord', 'exact', 'plasma', 'concentr', 'obtain', 'specif', 'test', 'eca', 'may', 'appropriate.', \"'\", ',', \"'flush\", 'central', 'venou', 'cathet', ':', 'heparin', 'necessari', '?', 'aim', 'systemat', 'review', 'assess', 'efficaci', 'heparin', 'flush', 'lock', 'central', 'venou', 'catheters.', 'search', 'medlin', 'cinahl', 'databases.', 'elig', 'studi', 'random', 'control', 'trial', 'evalu', 'use', 'heparin', 'versu', 'normal', 'salin', 'solut', 'flush', 'central', 'cathet', 'among', 'adult', 'patients.', 'languag', 'restrict', 'applied.', 'two', 'review', 'independ', 'screen', 'titl', 'abstract', 'order', 'identifi', 'relev', 'publications.', 'two', 'review', 'retriev', 'evalu', 'full', 'texts.', 'paramet', 'estim', 'regard', 'cathet', 'occlus', 'pool', 'use', 'network', 'meta-analysi', 'bayesian', 'hierarch', 'modeling.', 'identifi', '462', 'references.', 'eight', 'studi', 'included.', 'evid', 'heparin', 'effect', 'normal', 'salin', 'reduc', 'occlusions.', 'unclear', 'whether', 'urokinas', 'lepirudin', 'effect', 'heparin', 'reduc', 'occlusions.', 'vitamin', 'c', 'solut', 'appear', 'prolong', 'cathet', 'patency.', 'evid', 'differ', 'effect', 'heparin', 'flush', 'normal', 'salin', 'solut', 'reduc', 'cathet', 'occlusions.', 'due', 'littl', 'inconclus', 'evid', 'avail', 'field', ',', 'studi', 'might', 'necessary.', \"'\", ',', \"'monitor\", 'argatroban', 'lepirudin', 'anticoagul', 'critic', 'ill', 'patient', 'convent', 'laboratori', 'paramet', 'rotat', 'thromboelastometri', '-', 'prospect', 'control', 'random', 'double-blind', 'clinic', 'trial.', 'argatroban', 'lepirudin', 'anticoagul', 'therapi', 'patient', 'heparin', 'induc', 'thrombocytopenia', '(', 'hit', ')', 'hit', 'suspect', 'typic', 'monitor', 'use', 'activ', 'partial', 'thromboplastin', 'time', '(', 'aptt', ')', '.', 'although', 'aptt', 'correl', 'well', 'plasma', 'level', 'argatroban', 'lepirudin', 'healthi', 'volunt', ',', 'might', 'method', 'choic', 'critic', 'ill', 'patients.', 'howev', ',', 'in-vivo', 'data', 'lack', 'patient', 'population.', 'therefor', ',', 'studi', 'vivo', 'whether', 'rotem', 'global', 'clot', 'time', 'would', 'provid', 'altern', 'monitor', 'anticoagul', 'intens', 'effect', 'critic', 'ill', 'patients.', 'studi', 'part', 'double-blind', 'random', 'trial', '``', 'argatroban', 'versu', 'lepirudin', 'critic', 'ill', 'patient', '(', 'alicia', ')', \"''\", ',', 'compar', 'critic', 'ill', 'patient', 'treat', 'argatroban', 'lepirudin.', 'follow', 'institut', 'review', 'board', 'approv', 'written', 'inform', 'consent', ',', 'sub-studi', 'blood', '35', 'critic', 'ill', 'patient', 'analysed.', 'well', '12', ',', '24', ',', '48', '72\\\\xa0h', 'initi', 'argatroban', 'lepirudin', 'infus', ',', 'blood', 'analys', 'aptt', ',', 'aptt', 'ratio', ',', 'thrombin', 'time', '(', 'tt', ')', ',', 'intem', 'ct', ',', 'intem', 'ct', 'ratio', ',', 'extem', 'ct', ',', 'extem', 'ct', 'ratio', 'maximum', 'clot', 'firm', '(', 'mcf', ')', 'correl', 'correspond', 'plasma', 'concentr', 'direct', 'thrombin', 'inhibitor.', 'reach', 'target', 'aptt', '1.5', '2', 'time', 'baselin', ',', 'median', '[', 'iqr', ']', 'plasma', 'concentr', '0.35', '[', '0.01-1.2', ']', 'μg/ml', 'argatroban', '0.17', '[', '0.1-0.32', ']', 'μg/ml', 'lepirudin', 'required.', 'drug', ',', 'signific', 'correl', 'aptt', 'aptt', 'ratio', 'plasma', 'concentrations.', 'intem', 'ct', ',', 'intem', 'ct', 'ratio', ',', 'extem', 'ct', ',', 'extem', 'ct', 'ratio', ',', 'tt', 'tt', 'ratio', 'correl', 'significantli', 'plasma', 'concentr', 'drugs.', 'addit', ',', 'agreement', 'argatroban', 'plasma', 'level', 'extem', 'ct', 'extem', 'ct', 'ratio', 'superior', 'agreement', 'argatroban', 'plasma', 'level', 'aptt', 'bland', 'altman', 'analysis.', 'mcf', 'remain', 'unchang', 'therapi', 'drugs.', 'critic', 'ill', 'patient', ',', 'tt', 'rotem', 'paramet', 'may', 'provid', 'better', 'correl', 'argatroban', 'lepirudin', 'plasma', 'concentr', 'aptt.', 'clinicaltrials.gov', ',', 'nct00798525', ',', 'regist', '25', 'nov', '2008.', \"'\", ',', \"'xxx\", 'wherri', 'memori', 'lecture.', 'subpar', 'hearing.', \"'\", ']']\n",
      "['[', \"'ximelagatran.\", 'despit', 'signific', 'advanc', 'last', '50', 'year', 'regard', 'anticoagul', 'therapi', ',', 'warfarin', 'remain', 'definit', 'standard', 'long-term', 'prevent', 'thromboembol', 'event', 'at-risk', 'patient', ',', 'except', 'acut', 'coronari', 'syndrom', ',', 'antiplatelet', 'preferred.', 'ximelagatran', ',', 'prodrug', 'melagatran', ',', 'oral', 'administ', 'direct', 'thrombin', 'inhibitor', 'whose', 'therapeut', 'potenti', 'investig', 'venou', 'thromboembol', ',', 'acut', 'coronari', 'syndrom', 'prevent', 'stroke', 'atrial', 'fibrillation.', 'clinic', 'studi', 'demonstr', 'ximelagatran', 'compar', 'efficaci', 'oral', 'vitamin', 'k', 'antagonist', 'warfarin', 'low', 'molecular', 'weight', 'heparin', 'prophylaxi', 'venou', 'thromboembol', ',', 'compar', 'warfarin', 'stroke', 'prevent', 'set', 'atrial', 'fibril', ',', ',', 'combin', 'aspirin', ',', 'effect', 'aspirin', 'alon', 'prevent', 'major', 'advers', 'cardiovascular', 'event', 'patient', 'recent', 'myocardi', 'infarction.', 'double-blind', 'trial', 'also', 'reveal', 'efficaci', 'ximelagatran', 'secondari', 'prevent', 'venou', 'thromboembol', 'shown', 'agent', 'effect', 'enoxaparin/warfarin', 'treat', 'patient', 'acut', 'deep', 'vein', 'thrombosis.', 'advers', 'effect', 'ximelagatran', 'includ', 'elev', 'alanin', 'transaminas', '(', 'alt', ')', ',', 'may', 'requir', 'monitor', ',', 'bleed', 'complications.', 'bleed', 'complic', 'appear', 'less', 'least', 'compar', 'occur', 'standard', 'anticoagul', 'treatment', 'like', 'warfarin', 'low', 'molecular', 'weight', 'heparin.', 'addit', 'favor', 'efficaci', 'safeti', 'profil', 'comparison', 'standard', 'anticoagul', 'therapi', ',', 'conveni', 'oral', ',', 'fixed-dos', 'administr', 'without', 'need', 'anticoagul', 'monitor', 'might', 'help', 'encourag', 'wider', 'use', 'appropri', 'anticoagul', 'use', 'ximelagatran', 'across', 'popul', 'risk', ',', 'reduc', 'incid', 'thromboembol', 'events.', \"'\", ',', \"'ximelagatran\", '(', 'astrazeneca', ')', '.', 'astrazeneca', '(', 'formerli', 'astra', ')', 'develop', 'ximelagatran', ',', 'oral', 'activ', 'thrombin', 'inhibitor', 'prodrug', 'melagatran', ',', 'potenti', 'prevent', 'treatment', 'venou', 'thromboembol', '(', 'vte', ')', 'hip', 'knee', 'replac', ',', 'prevent', 'stroke', 'atrialfibril', '(', 'af', ')', 'post', 'acut', 'coronari', 'syndrome.', 'decemb', '1999', ',', 'compound', 'undergo', 'phase', 'iii', 'trial', 'prevent', 'vte', '[', '349551', ']', ';', 'ongo', 'decemb', '2001.', 'decemb', '2000', ',', 'ximelagatran', 'enter', 'phase', 'iii', 'trial', 'prevent', 'stroke', 'atrial', 'fibril', '[', '395212', ']', '.', 'septemb', '2000', ',', 'compani', 'expect', 'global', 'nda', 'file', 'indic', 'take', 'place', 'middl', '2001', '[', '383469', ']', ';', 'howev', ',', 'decemb', '2000', 'revis', 'second', 'half', '2002', '[', '395212', ']', ',', 'march', '2001', ',', 'second', 'quarter', '2003', '[', '402040', ']', ',', '[', '416882', ']', ',', '[', '431673', ']', '.', 'decemb', '2000', ',', 'phase', 'ii', 'trial', 'underway', 'ximelagatran', 'potenti', 'treatment', 'follow', 'myocardi', 'infarct', '[', '395237', ']', '.', 'decemb', '2001', ',', 'earli', 'phase', 'clinic', 'trial', 'ongo', 'post', 'acut', 'coronari', 'syndrom', '[', '431673', ']', '.', 'decemb', '2001', ',', 'eu', 'us', 'file', 'vte', 'prevent', 'anticip', 'third', 'quarter', '2002', 'second', 'quarter', '2003', ',', 'respect', '[', '3144721', ',', '[', '350050', ']', ',', '[', '431673', ']', '.', 'exanta', 'trade', 'name', 'melagatran', 'ximelagatran.', '1998', ',', 'market', 'ximelagatran', 'us', 'assign', 'astra/merek', 'joint', 'market', 'ventur', ',', 'prior', 'merger', '[', '276577', ']', '.', 'april', '1999', ',', 'abn', 'predict', 'sale', '4', 'pound', 'million', '2003', '[', '328676', ']', ',', '[', '394606', ']', '.', 'decemb', '2000', ',', 'lehman', 'brother', 'estim', 'peak', 'sale', '$', '1.4', 'billion', '[', '394606', ']', '.', 'time', ',', 'abn-amro', 'predict', 'peak', 'sale', '$', '1', 'billion', '[', '395237', ']', '.', 'june', '2000', ',', 'deutsch', 'bank', 'predict', 'sale', '$', '70', 'million', '2002', ',', 'rise', '$', '245', 'million', '2003', '[', '374500', ']', '.', 'septemb', '2000', ',', 'merril', 'lynch', 'predict', 'sale', '125', 'pound', 'million', '2002', ',', 'rise', '625', 'pound', 'million', '2004', '[', '383742', ']', '.', 'februari', '2001', ',', 'merril', 'lynch', 'estim', 'peak', 'sale', 'would', 'reach', '$', '924', 'million', '2005', '[', '429697', ']', '.', \"'\", ',', \"'ximelagatran\", 'orthopaed', 'surgery.', 'ximelagatran', 'repres', 'first', 'new', 'oral', 'anticoagul', 'sinc', 'introduct', 'warfarin', 'almost', '60', 'year', 'ago', ',', 'evalu', 'treatment', 'prevent', 'rang', 'venou', 'arteri', 'thromboembol', 'disorders.', 'melagatran', 'thromboprophylaxi', 'orthopaed', 'surgeri', '(', 'methro', ')', 'expand', 'prophylaxi', 'evalu', 'surgeri', 'studi', '(', 'express', ')', 'studi', 'investig', 'efficaci', 'safeti', 'subcutan', '(', 's.c.', ')', 'melagatran', 'follow', 'oral', 'ximelagatran', 'prevent', 'venou', 'thromboembol', '(', 'vte', ')', 'patient', 'undergo', 'total', 'hip', 'replac', 'total', 'knee', 'replacement.', 'methro', 'ii', ',', 'immedi', 'pre-operative-initi', 's.c.', 'melagatran', 'follow', 'post-op', 'ximelagatran', 'dose-depend', 'reduc', 'vte', ',', 'highest', 'dose', '(', 'melagatran', '3', 'mg/ximelagatran', '24', 'mg', 'twice', 'daili', ')', 'associ', 'significantli', 'reduc', 'incid', 'vte', 'compar', 'low-molecular-weight', 'heparin', '(', 'lmwh', ')', 'dalteparin', '(', '15.1', 'vs.', '28.2', '%', ';', 'p', '<', '0.0001', ')', '.', 'methro', 'iii', ',', 'efficaci', 's.c.', 'melagatran', '3', 'mg/ximelagatran', '24', 'mg', 'twice', 'daili', 'initi', 'post-op', '(', '4-12', 'h', 'surgeri', ')', 'compar', 'lmwh', 'enoxaparin', 'initi', '12', 'h', 'surgeri', '(', 'total', 'vte', 'incid', ',', '31.0', '27.3', '%', ',', 'respect', ')', '.', 'rate', 'sever', 'bleed', 'also', 'compar', 'treatment', '(', 'melagatran/ximelagatran', '=', '1.4', '%', ';', 'enoxaparin', '=', '1.7', '%', ')', '.', 'treatment', 'melagatran/ximelagatran', 'significantli', 'effect', 'initi', 'earlier', '(', '4-8', 'h', ')', 'rather', 'later', '(', '8-12', 'h', ')', 'surgeri', '(', 'total', 'vte', 'incid', ',', '27.5', 'vs.', '35.4', '%', ';', 'p', '=', '0.0034', ')', '.', 'base', 'result', 'methro', 'ii', 'iii', ',', 'express', 'studi', 'evalu', 'efficaci', 'bleed', 'profil', 's.c.', 'melagatran', '2', 'mg', 'immedi', 'surgeri', ',', 'follow', 's.c.', 'melagatran', '3', 'mg', 'even', 'day', 'surgeri', 'ximelagatran', '24', 'mg', 'twice', 'daily.', 'regimen', 'significantli', 'effect', 'enoxaparin', '(', 'total', 'vte', 'incid', ',', '20.3', 'vs.', '26.6', '%', ';', 'p', '<', '0.0004', ')', '.', 'excess', 'bleed', '(', 'judg', 'investig', ')', 'frequent', 'melagatran/ximelagatran', ',', 'rate', 'fatal', 'bleed', ',', 'critical-sit', 'bleed', 'bleed', 'requir', 're-oper', 'differ', 'groups.', 'taken', 'togeth', ',', 'methro', 'express', 'studi', 'demonstr', 'melagatran/ximelagatran', 'compar', 'superior', 'efficaci', 'lmwh', 'prevent', 'vte', 'orthopaed', 'surgeri', 'patient', ',', 'time', 'dose', 'melagatran', 'import', 'optim', 'balanc', 'efficaci', 'bleed', 'risk.', \"'\", ',', '``', 'ximelagatran', ':', 'new', 'type', 'oral', 'anticoagulant.', 'assess', 'sought', 'evalu', 'compar', 'benefit', 'advers', 'effect', 'profil', 'ximelagatran', ',', 'well', 'clinic', 'issu', 'surround', 'potenti', 'use.', 'perform', 'dialog', 'onesearch', 'across', 'biosi', 'preview', ',', 'embas', ',', 'medlin', ',', 'pascal', ',', 'toxfil', 'identifi', 'publish', 'literature.', 'pubm', 'cochran', 'librari', 'also', 'searched.', 'gray', 'literatur', 'identifi', 'search', 'varieti', 'web', 'site', 'health', 'technolog', 'assess', 'relat', 'agenc', 'associ', 'databases.', 'manufactur', \"'s\", 'canadian', 'offic', ',', 'astrazeneca', ',', 'invit', 'submit', 'information.', 'ximelagatran', 'first', 'oral', 'agent', 'new', 'class', 'anticoagul', 'call', 'direct', 'thrombin', 'inhibitors.', 'oral', 'anticoagul', 'requir', 'routin', 'blood', 'monitor', ';', 'ximelagatran', 'not.', 'ximelagatran', 'evalu', 'area', 'venou', 'thromboembol', 'manag', ',', 'particularli', 'orthoped', 'surgeri', ',', 'stroke', 'prevent', 'patient', 'atrial', 'fibrillation.', 'overal', ',', 'ximelagatran', \"'s\", 'efficaci', 'appear', 'compar', 'anticoagul', 'clinic', 'settings.', 'also', ',', 'bleed', 'rate', 'gener', 'similar', 'ximelagatran', 'compar', ',', 'warfarin', ',', 'bleed', 'risk', 'increas', 'higher', 'ximelagatran', 'doses.', 'addit', ',', 'specif', 'antidot', 'help', 'manag', 'ximelagatran-induc', 'bleeding.', 'final', ',', 'significantli', 'patient', 'expos', 'long-term', 'ximelagatran', 'develop', 'elev', 'liver', 'enzym', 'three', 'time', 'upper', 'normal', 'limit', ',', 'compar', 'patient', 'compar', 'anticoagulants.', 'given', 'appar', 'simplic', 'use', ',', 'ximelagatran', 'carri', 'potenti', 'replac', ',', 'least', 'part', ',', 'anticoagul', 'current', 'use', 'manag', 'venou', 'thromboembol', 'prevent', 'stroke', 'atrial', 'fibril', 'patients.', 'howev', ',', 'safeti', 'ximelagatran', 'fulli', 'known', 'without', 'evalu', 'surveil', 'potenti', 'liver', 'toxicity.', 'also', 'need', 'evalu', 'use', 'special', 'popul', 'patient', 'renal', 'failur', 'patient', 'use', 'sever', 'concurr', 'medications.', '``', ',', \"'ximelagatran/melagatran\", ':', 'review', 'use', 'prevent', 'venou', 'thromboembol', 'orthopaed', 'surgery.', 'ximelagatran', '(', 'exanta', ')', ',', 'first', 'avail', 'oral', 'direct', 'thrombin', 'inhibitor', ',', 'activ', 'form', ',', 'melagatran', ',', 'evalu', 'prevent', 'venou', 'thromboembol', '(', 'vte', ')', 'patient', 'undergo', 'hip', 'knee', 'replacement.', 'oral', 'administr', 'ximelagatran', 'rapidli', 'bioconvert', 'melagatran.', 'melagatran', 'inactiv', 'circul', 'clot-bound', 'thrombin', 'bind', 'thrombin', 'activ', 'site', ',', 'thu', ',', 'inhibit', 'platelet', 'activ', 'and/or', 'aggreg', 'reduc', 'fibrinolysi', 'time.', 'efficaci', 'subcutan', 'melagatran', 'follow', 'oral', 'ximelagatran', 'investig', 'four', 'european', 'trial', 'efficaci', 'oral', 'ximelagatran', 'regimen', 'investig', 'five', 'us', 'trials.', 'dose-rang', 'european', 'studi', ',', 'preoper', 'initi', 'subcutan', 'melagatran', '3', 'mg', 'twice', 'daili', 'follow', 'oral', 'ximelagatran', '24', 'mg', 'twice', 'daili', 'significantli', 'effect', 'subcutan', 'dalteparin', 'sodium', '5000iu', 'daili', 'prevent', 'occurr', 'vte', ',', 'includ', 'deep', 'vein', 'thrombosi', '(', 'dvt', ')', 'pulmonari', 'embol', '(', 'pe', ')', ',', 'patient', 'undergo', 'hip', 'knee', 'replacement.', 'one', 'studi', ',', 'signific', 'differ', 'vte', 'prevent', 'subcutan', 'melagatran', '3', 'mg', 'administ', 'surgeri', 'follow', 'ximelagatran', '24', 'mg', 'twice', 'daili', 'enoxaparin', 'sodium', '(', 'enoxaparin', ')', '40', 'mg', 'daily.', 'compar', 'enoxaparin', ',', 'significantli', 'lower', 'rate', 'proxim', 'dvt', 'and/or', 'pe', '(', 'major', 'vte', ')', 'total', 'vte', 'observ', 'melagatran', 'initi', 'preoper', '(', '2mg', ')', 'postop', '(', '3mg', ')', 'follow', 'ximelagatran', '24', 'mg', 'twice', 'daily.', 'us', ',', 'four', 'studi', 'show', 'postop', 'initi', 'ximelagatran', '24', 'mg', 'twice', 'daili', 'similar', 'efficaci', 'enoxaparin', 'warfarin', 'prevent', 'vte', 'patient', 'undergo', 'hip', 'knee', 'replacement.', 'howev', ',', 'ximelagatran', '36', 'mg', 'twice', 'daili', 'superior', 'warfarin', '(', 'target', 'intern', 'normalis', 'ratio', '2.5', ')', 'prevent', 'incid', 'vte', 'patient', 'undergo', 'total', 'knee', 'replac', 'two', 'studies.ximelagatran', 'alon', 'melagatran', 'gener', 'well', 'tolerated.', 'overal', ',', 'incid', 'bleed', 'event', 'transfus', 'rate', 'markedli', 'differ', 'document', 'compar', 'anticoagulants.', 'post-hoc', 'analysi', 'one', 'studi', ',', 'transfus', 'rate', 'lower', 'ximelagatran', 'enoxaparin', 'recipients.', 'oral', 'ximelagatran', 'alon', 'conjunct', 'subcutan', 'melagatran', 'shown', 'good', 'efficaci', 'gener', 'well', 'toler', 'prevent', 'vte', 'patient', 'undergo', 'orthopaed', 'surgery.', 'furthermor', ',', 'patient', 'receiv', 'ximelagatran/melagatran', 'requir', 'anticoagul', 'monitoring.', 'drug', 'low', 'potenti', 'drug', 'interact', 'administ', 'either', 'subcutan', 'inject', 'orally.', 'thu', ',', 'basi', 'avail', 'evid', ',', 'ximelagatran/melagatran', 'appear', 'pois', 'play', 'import', 'role', 'prophylaxi', 'vte', 'patient', 'undergo', 'orthopaed', 'surgery.', \"'\", ',', \"'ximelagatran\", ':', 'new', 'oral', 'anticoagulant.', 'although', 'mani', 'signific', 'advanc', 'last', '50', 'year', 'regard', 'anticoagul', 'therapi', ',', 'warfarin', 'remain', 'definit', 'standard', 'long-term', 'prevent', 'thromboembol', 'event', 'mani', 'patient', 'risk', 'complications.', 'although', 'effect', ',', 'warfarin', 'narrow', 'therapeut', 'window', ',', 'necessit', 'frequent', 'laboratori', 'monitor', 'anticoagul', 'effect.', 'ximelagatran', 'investig', 'anticoagul', 'directli', 'inhibit', 'thrombin', ',', 'unlik', 'heparin', 'warfarin', ',', 'indirect', 'inhibitors.', 'although', 'indirect', 'thrombin', 'inhibitor', 'mainli', 'effect', 'inhibit', 'circul', 'thrombin', ',', 'direct', 'thrombin', 'inhibitor', 'abl', 'inhibit', 'free', 'clot-bound', 'thrombin', ',', 'therebi', 'produc', 'effect', 'anticoagulation.', 'ximelagatran', 'first', 'oral', 'avail', 'direct', 'thrombin', 'inhibitor', 'reach', 'phase', '3', 'clinic', 'trials.', 'ximelagatran', 'prodrug', 'activ', 'metabolit', 'melagatran', ',', 'demonstr', 'rel', 'wide', 'therapeut', 'window', 'term', 'bleed', 'antithrombot', 'effect', 'compar', 'warfarin.', 'clinic', 'studi', 'demonstr', 'ximelagatran', 'compar', 'efficaci', 'warfarin', 'low-molecular-weight', 'heparin', '(', 'lmwh', ')', 'prophylaxi', 'venou', 'thromboembol', ',', 'compar', 'warfarin', 'stroke', 'prevent', 'set', 'atrial', 'fibril', ',', ',', 'combin', 'aspirin', ',', 'possibl', 'effect', 'aspirin', 'alon', 'prevent', 'major', 'advers', 'cardiovascular', 'event', 'patient', 'recent', 'myocardi', 'infarction.', 'advers', 'effect', 'ximelagatran', 'primarili', 'involv', 'bleed', 'complic', ',', 'frequent', 'placebo', ',', 'appear', 'compar', 'occur', 'standard', 'anticoagul', 'treatment', '(', 'ie', ',', 'warfarin', 'lmwh', ')', '.', 'ximelagatran', 'also', 'demonstr', 'caus', 'transient', 'increas', 'liver', 'enzym', ',', 'signific', 'need', 'address', 'ongo', 'phase', '3', 'studies.', 'ongo', 'trial', 'prove', 'ximelagatran', 'least', 'similar', 'therapeut', 'efficaci', 'safeti', 'warfarin', ',', 'ximelagatran', 'may', 'becom', 'first-lin', 'anticoagul', 'due', 'eas', 'administr', 'lack', 'need', 'drug', 'monitoring.', 'result', 'trial', 'eagerli', 'await', 'help', 'defin', 'place', 'therapi', 'promis', 'new', 'agent.', \"'\", ',', \"'ximelagatran\", ':', 'direct', 'thrombin', 'inhibitor.', 'warfarin', 'sodium', 'effect', 'oral', 'anticoagul', 'drug.', 'howev', ',', 'warfarin', 'narrow', 'therapeut', 'window', 'signific', 'risk', 'hemorrhag', 'therapeut', 'concentrations.', 'dose', 'difficult', 'requir', 'frequent', 'monitoring.', 'new', 'oral', 'anticoagul', 'agent', 'requir', 'improv', 'current', 'anticoagul', 'therapy.', 'furthermor', ',', 'warfarin', 'effect', 'venou', 'diseas', ',', 'provid', '60', '%', 'risk', 'reduct', 'compar', 'placebo', 'venou', 'thrombosi', 'prophylaxi', 'consider', 'lower', 'risk', 'reduct', 'term', 'arteri', 'thrombosis.', 'ximelagatran', 'oral', 'pro-drug', 'melagatran', ',', 'synthet', 'small', 'peptidomimet', 'direct', 'thrombin', 'inhibitori', 'action', 'anticoagul', 'activity.', 'oral', 'agent', ',', 'ximelagatran', 'number', 'desir', 'properti', 'includ', 'rapid', 'onset', 'action', ',', 'fix', 'dose', ',', 'stabl', 'absorpt', ',', 'appar', 'low', 'potenti', 'medic', 'interact', ',', 'requir', 'monitor', 'drug', 'level', 'dose', 'adjustment.', 'short', 'plasma', 'elimin', 'half-lif', '4', 'hour', 'case', 'unexpect', 'hemorrhag', 'need', 'reversal.', 'main', 'toxic', 'relat', 'develop', 'abnorm', 'liver', 'biochemistri', 'and/or', 'liver', 'dysfunct', '``', 'long-term', \"''\", 'use', 'drug.', 'usual', 'occur', 'within', 'first', '6', 'month', 'commenc', 'therapi', ',', 'small', 'percentag', 'patient', 'develop', 'jaundice.', 'biochem', 'abnorm', 'usual', 'resolv', 'despit', 'continu', 'drug.', 'caus', 'toxic', 'remain', 'unknown.', 'clinic', 'studi', 'date', 'shown', 'ximelagatran', 'noninferior', 'warfarin', 'stroke', 'prevent', 'patient', 'nonvalvular', 'atrial', 'fibril', ',', 'noninferior', 'standard', 'therapi', 'acut', 'extend', 'therapi', 'deep', 'vein', 'thrombosi', '(', 'dvt', ')', ',', 'superior', 'warfarin', 'prevent', 'venou', 'thromboembol', 'post-major', 'orthoped', 'surgery.', 'also', 'shown', 'effect', 'aspirin', 'alon', 'prevent', 'recurr', 'major', 'cardiovascular', 'event', 'patient', 'recent', 'myocardi', 'infarction.', \"'\", ',', \"'ximelagatran\", ',', 'new', 'oral', 'anticoagul', ':', 'would', 'warfarin', 'surviv', 'challeng', '?', 'last', 'decad', 'wit', 'major', 'advanc', 'prevent', 'treatment', 'venou', 'well', 'arteri', 'thrombosis.', 'limit', 'exist', 'anticoagul', 'led', 'develop', 'novel', 'therapeut', 'approaches.', 'ximelagatran', 'new', 'direct', 'thrombin', 'inhibitor', '(', 'dti', ')', 'given', 'oral', ',', 'without', 'need', 'close', 'monitoring.', 'compound', 'tri', 'treatment', 'activ', 'venou', 'thromboembol', ',', 'result', 'encouraging.', 'random', 'trial', 'suggest', 'ximelagatran', 'inferior', 'warfarin', 'prevent', 'stroke', 'patient', 'nonvalvular', 'atrial', 'fibrillation.', 'multipl', 'control', ',', 'prospect', 'trial', 'compar', 'ximelagatran', 'low', 'molecular', 'weight', 'heparin', 'warfarin', 'prevent', 'venou', 'thromboembol', 'patient', 'undergo', 'major', 'orthoped', 'procedures.', 'result', 'clinic', 'trial', 'review', 'article.', 'certain', 'safeti', 'concern', '(', 'increas', 'liver', 'enzym', ',', 'potenti', 'hepatonecrosi', ',', 'increas', 'coronari', 'event', ')', 'ximelagatran', 'yet', 'approv', 'fda.', 'addit', 'studi', 'may', 'requir', 'address', 'concerns.', 'ximelagatran', 'approv', ',', 'howev', ',', 'european', 'regulatori', 'author', 'short-term', 'thromboprophylaxis.', 'success', 'ximelagatran', 'oral', 'antithrombin', 'agent', 'would', 'provid', 'signific', 'proof', 'concept', 'long-term', 'use', 'oral', 'antithrombin', 'prevent', 'treatment', 'arteri', 'venou', 'thrombosis.', \"'\", ',', \"'ximelagatran\", 'treatment', 'prophylaxi', 'recurr', 'event', 'deep', 'vein', 'thrombosis.', 'treatment', 'acut', 'venou', 'thromboembol', 'prophylaxi', 'recurr', 'event', 'heparin/low', 'molecular', 'weight', 'heparin', 'follow', 'vitamin', 'k', 'antagonist', 'limit', 'sever', 'factors.', 'oral', 'direct', 'thrombin', 'inhibitor', '(', 'odti', ')', 'show', 'better', 'pharmacolog', 'activ', 'might', 'altern', 'treatment', 'venou', 'thromboembolism.', 'thrombin', 'inhibit', 'venou', 'thromboembol', '(', 'thrive', ')', 'program', 'perform', 'studi', 'develop', 'odti', 'ximelagatran', 'indic', ',', 'present', 'overview.', 'aim', 'thrive', 'studi', 'dose', 'find', ',', 'thrive', 'iv', 'studi', 'applic', 'hemodynam', 'stabil', 'pulmonari', 'embolism.', 'prospect', ',', 'random', ',', 'doubl', 'blind', 'trial', 'perform', 'compar', 'oral', 'ximelagatran', 'enoxaparin/warfarin', '6-month', 'treatment', 'acut', 'venou', 'thrombosi', '(', 'thrive', 'ii', 'v', ')', '.', 'second', 'doubl', 'blind', 'studi', 'compar', 'ximelagatran', 'placebo', '18', 'month', '6-month', 'anticoagul', 'therapi', 'acut', 'deep', 'vein', 'thrombosis.', 'efficaci', 'safeti', 'treatment', 'patient', 'acut', 'deep', 'venou', 'thrombosi', 'receiv', '2', 'infin', '36', 'mg', 'ximelagatran', 'inferior', 'patient', 'receiv', 'convent', 'anticoagul', 'prophylaxi', 'recurr', 'event', '6', 'months.', 'ximelagatran', '2', 'infin', '24', 'mg', 'significantli', 'reduc', 'recurr', 'thromboembol', 'event', 'compar', 'placebo', 'without', 'increas', 'risk', 'hemorrhage.', 'revers', 'symptomless', 'increas', 'alanin', 'aminotransferas', 'occur', '6', '%', '9.6', '%', 'patient', 'month', '2', '4.', 'result', 'follow-up', 'studi', 'suggest', 'thromboembol', 'event', 'may', 'recur', 'patient', 'acut', 'venou', 'thromboembol', 'termin', 'treatment', 'vitamin', 'k', 'antagonist', 'ximelagatran.', \"'\", ',', \"'nonimmun\", 'hydrop', 'fetali', 'fetal', 'congenit', 'syphilis.', 'case', 'report.', 'nonimmun', 'hydrop', 'fetali', 'occur', 'secondari', 'syphilit', 'infection.', 'ultrasonograph', 'evalu', 'cordocentesi', 'use', 'confirm', 'antenat', 'infection.', 'igm', 'antibodi', 'specif', 'treponema', 'pallidum', 'wall', 'antigen', '(', 'anti-47-kda', ')', 'use', 'document', 'fetal', 'infection.', 'high-dos', 'intraven', 'penicillin', 'administ', 'attempt', 'achiev', 'adequ', 'fetal', 'levels.', \"'\", ']']\n",
      "------------------------------------------------------------\n",
      "########################################\n"
     ]
    }
   ],
   "source": [
    "# Document Clustering\n",
    "print(\"##\"*30)\n",
    "print(\"K-Means Clustering\")\n",
    "print(\"##\"*30)\n",
    "Clustering_Method = KMeans(n_clusters=2, random_state=0)\n",
    "X = model.docvecs.vectors_docs # document vector 전체를 가져옴. \n",
    "Clustering_Method.fit(X)# fitting \n",
    "\n",
    "cluster_dict = {i:[] for i in range(0, 2)}\n",
    "for text_tags, label in zip(texts_and_tags, Clustering_Method.labels_):\n",
    "    text, tags = text_tags\n",
    "    cluster_dict[label].append(text)\n",
    "for label, lst in cluster_dict.items():\n",
    "    print(f\"Cluster {label}\")\n",
    "    for x in lst:\n",
    "        print(x)\n",
    "    print(\"--\"*30)\n",
    "print(\"##\"*20)"
   ]
  }
 ],
 "metadata": {
  "kernelspec": {
   "display_name": "Python 3",
   "language": "python",
   "name": "python3"
  },
  "language_info": {
   "codemirror_mode": {
    "name": "ipython",
    "version": 3
   },
   "file_extension": ".py",
   "mimetype": "text/x-python",
   "name": "python",
   "nbconvert_exporter": "python",
   "pygments_lexer": "ipython3",
   "version": "3.8.3"
  }
 },
 "nbformat": 4,
 "nbformat_minor": 2
}
