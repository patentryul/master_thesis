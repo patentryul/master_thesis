{
 "cells": [
  {
   "cell_type": "code",
   "execution_count": 1,
   "metadata": {},
   "outputs": [],
   "source": [
    "import itertools\n",
    "import gzip\n",
    "\n",
    "import pandas\n",
    "import rdkit.Chem\n",
    "import rdkit.Chem.AllChem\n",
    "import rdkit.DataStructs"
   ]
  },
  {
   "cell_type": "code",
   "execution_count": 4,
   "metadata": {},
   "outputs": [
    {
     "name": "stdout",
     "output_type": "stream",
     "text": [
      "--2015-05-18 14:03:23--  http://www.drugbank.ca/system/downloads/current/structures/all.sdf.zip\n",
      "Resolving www.drugbank.ca (www.drugbank.ca)... 162.243.242.197\n",
      "Connecting to www.drugbank.ca (www.drugbank.ca)|162.243.242.197|:80... connected.\n",
      "HTTP request sent, awaiting response... 200 OK\n",
      "Length: 4362948 (4.2M) [application/zip]\n",
      "Server file no newer than local file ‘download/all.sdf.zip’ -- not retrieving.\n",
      "\n",
      "Archive:  download/all.sdf.zip\n",
      "  inflating: download/all.sdf        \n"
     ]
    }
   ],
   "source": [
    "# 따로 Download 받은 파일로 진행 ---\n",
    "# Download DrugBank SDF file of structures\n",
    "# ! wget --timestamping --directory-prefix download http://www.drugbank.ca/system/downloads/current/structures/all.sdf.zip\n",
    "# ! unzip -d download download/all.sdf.zip\n",
    "# ! rm download/all.sdf.zip"
   ]
  },
  {
   "cell_type": "code",
   "execution_count": 5,
   "metadata": {},
   "outputs": [
    {
     "name": "stdout",
     "output_type": "stream",
     "text": [
      "approved drug: 2507\n",
      "all drug: 11159\n"
     ]
    }
   ],
   "source": [
    "# Read SDF File\n",
    "# supplier = rdkit.Chem.SDMolSupplier('download/all.sdf')\n",
    "\n",
    "# Read approved structures SDF Format\n",
    "approved_supplier = rdkit.Chem.SDMolSupplier('download/approved_structures.sdf')\n",
    "\n",
    "approved_molecules = [mol for mol in approved_supplier if mol is not None]\n",
    "print('approved drug: ' + str(len(approved_molecules)))\n",
    "      \n",
    "      \n",
    "# Read all structures SDF File\n",
    "all_supplier = rdkit.Chem.SDMolSupplier('download/all_structures.sdf')\n",
    "all_molecules = [mol for mol in all_supplier if mol is not None]\n",
    "print('all drug: ' + str(len(all_molecules))    )"
   ]
  },
  {
   "cell_type": "code",
   "execution_count": 6,
   "metadata": {},
   "outputs": [],
   "source": [
    "# Calculate fingerprints\n",
    "fingerprints = dict()\n",
    "for mol in approved_molecules:\n",
    "    drugbank_id = mol.GetProp('DATABASE_ID')\n",
    "    fingerprint = rdkit.Chem.AllChem.GetMorganFingerprint(mol, 2)\n",
    "    fingerprints[drugbank_id] = fingerprint"
   ]
  },
  {
   "cell_type": "code",
   "execution_count": 7,
   "metadata": {},
   "outputs": [],
   "source": [
    "# Calculate pairwise compound similarities\n",
    "similarity_rows = list()\n",
    "for (id0, fp0), (id1, fp1) in itertools.combinations(fingerprints.items(), 2):\n",
    "    similarity = rdkit.DataStructs.DiceSimilarity(fp0, fp1)\n",
    "    similarity = round(similarity, 4)\n",
    "    similarity_rows.append([id0, id1, similarity])"
   ]
  },
  {
   "cell_type": "code",
   "execution_count": 8,
   "metadata": {},
   "outputs": [
    {
     "data": {
      "text/html": [
       "<div>\n",
       "<style scoped>\n",
       "    .dataframe tbody tr th:only-of-type {\n",
       "        vertical-align: middle;\n",
       "    }\n",
       "\n",
       "    .dataframe tbody tr th {\n",
       "        vertical-align: top;\n",
       "    }\n",
       "\n",
       "    .dataframe thead th {\n",
       "        text-align: right;\n",
       "    }\n",
       "</style>\n",
       "<table border=\"1\" class=\"dataframe\">\n",
       "  <thead>\n",
       "    <tr style=\"text-align: right;\">\n",
       "      <th></th>\n",
       "      <th>compound0</th>\n",
       "      <th>compound1</th>\n",
       "      <th>similarity</th>\n",
       "    </tr>\n",
       "  </thead>\n",
       "  <tbody>\n",
       "    <tr>\n",
       "      <th>0</th>\n",
       "      <td>DB00006</td>\n",
       "      <td>DB00007</td>\n",
       "      <td>0.5526</td>\n",
       "    </tr>\n",
       "    <tr>\n",
       "      <th>1</th>\n",
       "      <td>DB00006</td>\n",
       "      <td>DB00014</td>\n",
       "      <td>0.5178</td>\n",
       "    </tr>\n",
       "    <tr>\n",
       "      <th>2</th>\n",
       "      <td>DB00006</td>\n",
       "      <td>DB00027</td>\n",
       "      <td>0.4796</td>\n",
       "    </tr>\n",
       "    <tr>\n",
       "      <th>3</th>\n",
       "      <td>DB00006</td>\n",
       "      <td>DB00035</td>\n",
       "      <td>0.3911</td>\n",
       "    </tr>\n",
       "    <tr>\n",
       "      <th>4</th>\n",
       "      <td>DB00006</td>\n",
       "      <td>DB00050</td>\n",
       "      <td>0.5969</td>\n",
       "    </tr>\n",
       "  </tbody>\n",
       "</table>\n",
       "</div>"
      ],
      "text/plain": [
       "  compound0 compound1  similarity\n",
       "0   DB00006   DB00007      0.5526\n",
       "1   DB00006   DB00014      0.5178\n",
       "2   DB00006   DB00027      0.4796\n",
       "3   DB00006   DB00035      0.3911\n",
       "4   DB00006   DB00050      0.5969"
      ]
     },
     "execution_count": 8,
     "metadata": {},
     "output_type": "execute_result"
    }
   ],
   "source": [
    "# Create a DataFrame of pairwise similarities\n",
    "similarity_df = pandas.DataFrame(similarity_rows, columns=['compound0', 'compound1', 'similarity'])\n",
    "\n",
    "# with gzip.open('data/similarity.tsv.gz', 'w') as write_file:\n",
    "#     similarity_df.to_csv(write_file, sep='\\t', index=False)\n",
    "    \n",
    "# write a pandas dataframe to gzipped CSV file\n",
    "similarity_df.to_csv(\"data/similarity.tsv.gz\", \n",
    "           index=False, \n",
    "           compression=\"gzip\")\n",
    "\n",
    "similarity_df.head()"
   ]
  },
  {
   "cell_type": "code",
   "execution_count": 9,
   "metadata": {},
   "outputs": [
    {
     "data": {
      "text/plain": [
       "1.0"
      ]
     },
     "execution_count": 9,
     "metadata": {},
     "output_type": "execute_result"
    }
   ],
   "source": [
    "# Save a similarity tsv with only compounds in our slim drugbank set\n",
    "#drugbank_slim_df = pandas.read_table('data/drugbank-slim.tsv')\n",
    "# 새로운 slim.tsv / 2021 year version\n",
    "drugbank_slim_df = pandas.read_table('D:/WorkSpace/master_thesis/Drug_Bank/result/drugbank-slim.tsv')\n",
    "slim_ids = set(drugbank_slim_df.drugbank_id)\n",
    "\n",
    "similarity_slim_df = similarity_df[similarity_df.compound0.isin(slim_ids) & similarity_df.compound1.isin(slim_ids)]\n",
    "\n",
    "# with gzip.open('data/similarity-slim.tsv.gz', 'w') as write_file:\n",
    "#     similarity_slim_df.to_csv(write_file, sep='\\t', index=False)\n",
    "\n",
    "# write a pandas dataframe to gzipped CSV file\n",
    "similarity_slim_df.to_csv(\"data/similarity-slim.tsv.gz\", \n",
    "           index=False, \n",
    "           compression=\"gzip\")\n",
    "\n",
    "float(len(similarity_slim_df)) / len(similarity_df)"
   ]
  },
  {
   "cell_type": "code",
   "execution_count": 10,
   "metadata": {},
   "outputs": [
    {
     "data": {
      "image/png": "[encoded data removed]",
      "text/plain": [
       "<Figure size 432x288 with 1 Axes>"
      ]
     },
     "metadata": {
      "needs_background": "light"
     },
     "output_type": "display_data"
    }
   ],
   "source": [
    "# histogram of similarities\n",
    "import matplotlib.pyplot as plt\n",
    "%matplotlib inline\n",
    "\n",
    "plt.hist(similarity_df.similarity, 100);"
   ]
  },
  {
   "cell_type": "code",
   "execution_count": 11,
   "metadata": {},
   "outputs": [
    {
     "data": {
      "image/png": "[encoded data removed]",
      "text/plain": [
       "<Figure size 432x288 with 1 Axes>"
      ]
     },
     "metadata": {
      "needs_background": "light"
     },
     "output_type": "display_data"
    }
   ],
   "source": [
    "# histogram of similarities in slim subset\n",
    "plt.hist(list(similarity_slim_df.similarity), 100);"
   ]
  }
 ],
 "metadata": {
  "kernelspec": {
   "display_name": "Python 3",
   "language": "python",
   "name": "python3"
  },
  "language_info": {
   "codemirror_mode": {
    "name": "ipython",
    "version": 3
   },
   "file_extension": ".py",
   "mimetype": "text/x-python",
   "name": "python",
   "nbconvert_exporter": "python",
   "pygments_lexer": "ipython3",
   "version": "3.6.12"
  }
 },
 "nbformat": 4,
 "nbformat_minor": 1
}
