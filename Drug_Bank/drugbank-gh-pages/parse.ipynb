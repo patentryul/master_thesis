{
 "cells": [
  {
   "cell_type": "markdown",
   "metadata": {},
   "source": [
    "# Parse the DrugBank XML and extract TSVs"
   ]
  },
  {
   "cell_type": "markdown",
   "metadata": {},
   "source": [
    "Run using Python 3 to avoid a non-ascii character error when writing to file with the csv module."
   ]
  },
  {
   "cell_type": "code",
   "execution_count": 1,
   "metadata": {},
   "outputs": [],
   "source": [
    "import os\n",
    "import csv\n",
    "import gzip\n",
    "import collections\n",
    "import re\n",
    "import io\n",
    "import json\n",
    "import xml.etree.ElementTree as ET\n",
    "\n",
    "import requests\n",
    "import pandas"
   ]
  },
  {
   "cell_type": "code",
   "execution_count": 2,
   "metadata": {},
   "outputs": [],
   "source": [
    "# 원본\n",
    "# xml_path = os.path.join('download', 'drugbank.xml.gz')\n",
    "# with gzip.open(xml_path) as xml_file:\n",
    "#     tree = ET.parse(xml_file)\n",
    "# root = tree.getroot()"
   ]
  },
  {
   "cell_type": "code",
   "execution_count": 3,
   "metadata": {},
   "outputs": [],
   "source": [
    "# drugbank full database - 2021 year\n",
    "xml_path='D:/WorkSpace/master_thesis/Drug_Bank/download_drugbank/full_database.xml.gz'\n",
    "with gzip.open(xml_path) as xml_file:\n",
    "    tree = ET.parse(xml_file)\n",
    "root = tree.getroot()"
   ]
  },
  {
   "cell_type": "code",
   "execution_count": 146,
   "metadata": {},
   "outputs": [],
   "source": [
    "ns = '{http://www.drugbank.ca}'\n",
    "inchikey_template = \"{ns}calculated-properties/{ns}property[{ns}kind='InChIKey']/{ns}value\"\n",
    "inchi_template = \"{ns}calculated-properties/{ns}property[{ns}kind='InChI']/{ns}value\"\n",
    "\n",
    "rows = list()\n",
    "for i, drug in enumerate(root):\n",
    "    row = collections.OrderedDict()\n",
    "    assert drug.tag == ns + 'drug'\n",
    "    row['type'] = drug.get('type')\n",
    "    row['drugbank_id'] = drug.findtext(ns + \"drugbank-id[@primary='true']\")\n",
    "    row['name'] = drug.findtext(ns + \"name\")\n",
    "    row['description'] = drug.findtext(ns + \"description\")\n",
    "    row['groups'] = [group.text for group in\n",
    "        drug.findall(\"{ns}groups/{ns}group\".format(ns = ns))]\n",
    "    row['atc_codes'] = [code.get('code') for code in\n",
    "        drug.findall(\"{ns}atc-codes/{ns}atc-code\".format(ns = ns))]\n",
    "    row['targets'] = [target.text for target in\n",
    "        drug.findall(\"{ns}targets/{ns}target/{ns}name\".format(ns = ns))]\n",
    "    row['categories'] = [x.findtext(ns + 'category') for x in\n",
    "        drug.findall(\"{ns}categories/{ns}category\".format(ns = ns))]\n",
    "    row['inchi'] = drug.findtext(inchi_template.format(ns = ns))\n",
    "    row['inchikey'] = drug.findtext(inchikey_template.format(ns = ns))\n",
    "    \n",
    "  \n",
    "    \n",
    "    # Add drug aliases\n",
    "    aliases = {\n",
    "        elem.text for elem in \n",
    "        drug.findall(\"{ns}international-brands/{ns}international-brand\".format(ns = ns)) +\n",
    "        drug.findall(\"{ns}synonyms/{ns}synonym[@language='English']\".format(ns = ns)) +\n",
    "        drug.findall(\"{ns}international-brands/{ns}international-brand\".format(ns = ns)) +\n",
    "        drug.findall(\"{ns}products/{ns}product/{ns}name\".format(ns = ns))\n",
    "\n",
    "    }\n",
    "    aliases.add(row['name'])\n",
    "    row['aliases'] = sorted(aliases)\n",
    "\n",
    "    rows.append(row)"
   ]
  },
  {
   "cell_type": "code",
   "execution_count": 147,
   "metadata": {},
   "outputs": [],
   "source": [
    "alias_dict = {row['drugbank_id']: row['aliases'] for row in rows}\n",
    "with open('./data/aliases.json', 'w') as fp:\n",
    "    json.dump(alias_dict, fp, indent=2, sort_keys=True)"
   ]
  },
  {
   "cell_type": "code",
   "execution_count": 148,
   "metadata": {},
   "outputs": [],
   "source": [
    "def collapse_list_values(row):\n",
    "    for key, value in row.items():\n",
    "        if isinstance(value, list):\n",
    "            row[key] = '|'.join(value)\n",
    "    return row\n",
    "\n",
    "rows = list(map(collapse_list_values, rows))"
   ]
  },
  {
   "cell_type": "code",
   "execution_count": 149,
   "metadata": {},
   "outputs": [
    {
     "data": {
      "text/html": [
       "<div>\n",
       "<style scoped>\n",
       "    .dataframe tbody tr th:only-of-type {\n",
       "        vertical-align: middle;\n",
       "    }\n",
       "\n",
       "    .dataframe tbody tr th {\n",
       "        vertical-align: top;\n",
       "    }\n",
       "\n",
       "    .dataframe thead th {\n",
       "        text-align: right;\n",
       "    }\n",
       "</style>\n",
       "<table border=\"1\" class=\"dataframe\">\n",
       "  <thead>\n",
       "    <tr style=\"text-align: right;\">\n",
       "      <th></th>\n",
       "      <th>drugbank_id</th>\n",
       "      <th>name</th>\n",
       "      <th>type</th>\n",
       "      <th>groups</th>\n",
       "      <th>atc_codes</th>\n",
       "      <th>targets</th>\n",
       "      <th>categories</th>\n",
       "      <th>inchikey</th>\n",
       "      <th>inchi</th>\n",
       "      <th>description</th>\n",
       "    </tr>\n",
       "  </thead>\n",
       "  <tbody>\n",
       "    <tr>\n",
       "      <th>0</th>\n",
       "      <td>DB00001</td>\n",
       "      <td>Lepirudin</td>\n",
       "      <td>biotech</td>\n",
       "      <td>approved</td>\n",
       "      <td>B01AE02</td>\n",
       "      <td>Prothrombin</td>\n",
       "      <td>Amino Acids, Peptides, and Proteins|Anticoagul...</td>\n",
       "      <td>None</td>\n",
       "      <td>None</td>\n",
       "      <td>Lepirudin is identical to natural hirudin exce...</td>\n",
       "    </tr>\n",
       "    <tr>\n",
       "      <th>1</th>\n",
       "      <td>DB00002</td>\n",
       "      <td>Cetuximab</td>\n",
       "      <td>biotech</td>\n",
       "      <td>approved</td>\n",
       "      <td>L01XC06</td>\n",
       "      <td>Epidermal growth factor receptor|Low affinity ...</td>\n",
       "      <td>Amino Acids, Peptides, and Proteins|Antibodies...</td>\n",
       "      <td>None</td>\n",
       "      <td>None</td>\n",
       "      <td>Cetuximab is an epidermal growth factor recept...</td>\n",
       "    </tr>\n",
       "    <tr>\n",
       "      <th>2</th>\n",
       "      <td>DB00003</td>\n",
       "      <td>Dornase alfa</td>\n",
       "      <td>biotech</td>\n",
       "      <td>approved</td>\n",
       "      <td>R05CB13</td>\n",
       "      <td>DNA</td>\n",
       "      <td>Amino Acids, Peptides, and Proteins|Cough and ...</td>\n",
       "      <td>None</td>\n",
       "      <td>None</td>\n",
       "      <td>Dornase alfa is a biosynthetic form of human d...</td>\n",
       "    </tr>\n",
       "    <tr>\n",
       "      <th>3</th>\n",
       "      <td>DB00004</td>\n",
       "      <td>Denileukin diftitox</td>\n",
       "      <td>biotech</td>\n",
       "      <td>approved|investigational</td>\n",
       "      <td>L01XX29</td>\n",
       "      <td>Interleukin-2 receptor subunit alpha|Interleuk...</td>\n",
       "      <td>ADP Ribose Transferases|Amino Acids, Peptides,...</td>\n",
       "      <td>None</td>\n",
       "      <td>None</td>\n",
       "      <td>A recombinant DNA-derived cytotoxic protein co...</td>\n",
       "    </tr>\n",
       "    <tr>\n",
       "      <th>4</th>\n",
       "      <td>DB00005</td>\n",
       "      <td>Etanercept</td>\n",
       "      <td>biotech</td>\n",
       "      <td>approved|investigational</td>\n",
       "      <td>L04AB01</td>\n",
       "      <td>Tumor necrosis factor|High affinity immunoglob...</td>\n",
       "      <td>Agents reducing cytokine levels|Amino Acids, P...</td>\n",
       "      <td>None</td>\n",
       "      <td>None</td>\n",
       "      <td>Dimeric fusion protein consisting of the extra...</td>\n",
       "    </tr>\n",
       "  </tbody>\n",
       "</table>\n",
       "</div>"
      ],
      "text/plain": [
       "  drugbank_id                 name     type                    groups  \\\n",
       "0     DB00001            Lepirudin  biotech                  approved   \n",
       "1     DB00002            Cetuximab  biotech                  approved   \n",
       "2     DB00003         Dornase alfa  biotech                  approved   \n",
       "3     DB00004  Denileukin diftitox  biotech  approved|investigational   \n",
       "4     DB00005           Etanercept  biotech  approved|investigational   \n",
       "\n",
       "  atc_codes                                            targets  \\\n",
       "0   B01AE02                                        Prothrombin   \n",
       "1   L01XC06  Epidermal growth factor receptor|Low affinity ...   \n",
       "2   R05CB13                                                DNA   \n",
       "3   L01XX29  Interleukin-2 receptor subunit alpha|Interleuk...   \n",
       "4   L04AB01  Tumor necrosis factor|High affinity immunoglob...   \n",
       "\n",
       "                                          categories inchikey inchi  \\\n",
       "0  Amino Acids, Peptides, and Proteins|Anticoagul...     None  None   \n",
       "1  Amino Acids, Peptides, and Proteins|Antibodies...     None  None   \n",
       "2  Amino Acids, Peptides, and Proteins|Cough and ...     None  None   \n",
       "3  ADP Ribose Transferases|Amino Acids, Peptides,...     None  None   \n",
       "4  Agents reducing cytokine levels|Amino Acids, P...     None  None   \n",
       "\n",
       "                                         description  \n",
       "0  Lepirudin is identical to natural hirudin exce...  \n",
       "1  Cetuximab is an epidermal growth factor recept...  \n",
       "2  Dornase alfa is a biosynthetic form of human d...  \n",
       "3  A recombinant DNA-derived cytotoxic protein co...  \n",
       "4  Dimeric fusion protein consisting of the extra...  "
      ]
     },
     "execution_count": 149,
     "metadata": {},
     "output_type": "execute_result"
    }
   ],
   "source": [
    "columns = ['drugbank_id', 'name', 'type', 'groups', 'atc_codes', 'targets', 'categories', 'inchikey', 'inchi', 'description']\n",
    "drugbank_df = pandas.DataFrame.from_dict(rows)[columns]\n",
    "drugbank_df.head()"
   ]
  },
  {
   "cell_type": "code",
   "execution_count": 150,
   "metadata": {},
   "outputs": [
    {
     "data": {
      "text/html": [
       "<div>\n",
       "<style scoped>\n",
       "    .dataframe tbody tr th:only-of-type {\n",
       "        vertical-align: middle;\n",
       "    }\n",
       "\n",
       "    .dataframe tbody tr th {\n",
       "        vertical-align: top;\n",
       "    }\n",
       "\n",
       "    .dataframe thead th {\n",
       "        text-align: right;\n",
       "    }\n",
       "</style>\n",
       "<table border=\"1\" class=\"dataframe\">\n",
       "  <thead>\n",
       "    <tr style=\"text-align: right;\">\n",
       "      <th></th>\n",
       "      <th>drugbank_id</th>\n",
       "      <th>name</th>\n",
       "      <th>type</th>\n",
       "      <th>groups</th>\n",
       "      <th>atc_codes</th>\n",
       "      <th>targets</th>\n",
       "      <th>categories</th>\n",
       "      <th>inchikey</th>\n",
       "      <th>inchi</th>\n",
       "      <th>description</th>\n",
       "    </tr>\n",
       "  </thead>\n",
       "  <tbody>\n",
       "    <tr>\n",
       "      <th>5</th>\n",
       "      <td>DB00006</td>\n",
       "      <td>Bivalirudin</td>\n",
       "      <td>small molecule</td>\n",
       "      <td>approved|investigational</td>\n",
       "      <td>B01AE06</td>\n",
       "      <td>Prothrombin</td>\n",
       "      <td>Amino Acids, Peptides, and Proteins|Anticoagul...</td>\n",
       "      <td>OIRCOABEOLEUMC-GEJPAHFPSA-N</td>\n",
       "      <td>InChI=1S/C98H138N24O33/c1-5-52(4)82(96(153)122...</td>\n",
       "      <td>Bivalirudin is a synthetic 20 residue peptide ...</td>\n",
       "    </tr>\n",
       "    <tr>\n",
       "      <th>6</th>\n",
       "      <td>DB00007</td>\n",
       "      <td>Leuprolide</td>\n",
       "      <td>small molecule</td>\n",
       "      <td>approved|investigational</td>\n",
       "      <td>L02AE51|L02AE02</td>\n",
       "      <td>Gonadotropin-releasing hormone receptor</td>\n",
       "      <td>Adrenal Cortex Hormones|Agents Causing Muscle ...</td>\n",
       "      <td>GFIJNRVAKGFPGQ-LIJARHBVSA-N</td>\n",
       "      <td>InChI=1S/C59H84N16O12/c1-6-63-57(86)48-14-10-2...</td>\n",
       "      <td>Leuprolide is a synthetic 9-residue peptide an...</td>\n",
       "    </tr>\n",
       "    <tr>\n",
       "      <th>13</th>\n",
       "      <td>DB00014</td>\n",
       "      <td>Goserelin</td>\n",
       "      <td>small molecule</td>\n",
       "      <td>approved</td>\n",
       "      <td>L02AE03</td>\n",
       "      <td>Lutropin-choriogonadotropic hormone receptor|G...</td>\n",
       "      <td>Adrenal Cortex Hormones|Amino Acids, Peptides,...</td>\n",
       "      <td>BLCLNMBMMGCOAS-URPVMXJPSA-N</td>\n",
       "      <td>InChI=1S/C59H84N18O14/c1-31(2)22-40(49(82)68-3...</td>\n",
       "      <td>Goserelin is a synthetic hormone. In men, it s...</td>\n",
       "    </tr>\n",
       "    <tr>\n",
       "      <th>25</th>\n",
       "      <td>DB00027</td>\n",
       "      <td>Gramicidin D</td>\n",
       "      <td>small molecule</td>\n",
       "      <td>approved</td>\n",
       "      <td>R02AB30</td>\n",
       "      <td></td>\n",
       "      <td>Amino Acids, Peptides, and Proteins|Anti-Bacte...</td>\n",
       "      <td>NDAYQJDHGXTBJL-MWWSRJDJSA-N</td>\n",
       "      <td>InChI=1S/C96H135N19O16/c1-50(2)36-71(105-79(11...</td>\n",
       "      <td>Gramcidin D is a heterogeneous mixture of thre...</td>\n",
       "    </tr>\n",
       "    <tr>\n",
       "      <th>33</th>\n",
       "      <td>DB00035</td>\n",
       "      <td>Desmopressin</td>\n",
       "      <td>small molecule</td>\n",
       "      <td>approved</td>\n",
       "      <td>H01BA02</td>\n",
       "      <td>Vasopressin V2 receptor|Vasopressin V1a recept...</td>\n",
       "      <td>Agents that produce hypertension|Amino Acids, ...</td>\n",
       "      <td>NFLWUMRGJYTJIN-PNIOQBSNSA-N</td>\n",
       "      <td>InChI=1S/C46H64N14O12S2/c47-35(62)15-14-29-40(...</td>\n",
       "      <td>Desmopressin (dDAVP), a synthetic analogue of ...</td>\n",
       "    </tr>\n",
       "  </tbody>\n",
       "</table>\n",
       "</div>"
      ],
      "text/plain": [
       "   drugbank_id          name            type                    groups  \\\n",
       "5      DB00006   Bivalirudin  small molecule  approved|investigational   \n",
       "6      DB00007    Leuprolide  small molecule  approved|investigational   \n",
       "13     DB00014     Goserelin  small molecule                  approved   \n",
       "25     DB00027  Gramicidin D  small molecule                  approved   \n",
       "33     DB00035  Desmopressin  small molecule                  approved   \n",
       "\n",
       "          atc_codes                                            targets  \\\n",
       "5           B01AE06                                        Prothrombin   \n",
       "6   L02AE51|L02AE02            Gonadotropin-releasing hormone receptor   \n",
       "13          L02AE03  Lutropin-choriogonadotropic hormone receptor|G...   \n",
       "25          R02AB30                                                      \n",
       "33          H01BA02  Vasopressin V2 receptor|Vasopressin V1a recept...   \n",
       "\n",
       "                                           categories  \\\n",
       "5   Amino Acids, Peptides, and Proteins|Anticoagul...   \n",
       "6   Adrenal Cortex Hormones|Agents Causing Muscle ...   \n",
       "13  Adrenal Cortex Hormones|Amino Acids, Peptides,...   \n",
       "25  Amino Acids, Peptides, and Proteins|Anti-Bacte...   \n",
       "33  Agents that produce hypertension|Amino Acids, ...   \n",
       "\n",
       "                       inchikey  \\\n",
       "5   OIRCOABEOLEUMC-GEJPAHFPSA-N   \n",
       "6   GFIJNRVAKGFPGQ-LIJARHBVSA-N   \n",
       "13  BLCLNMBMMGCOAS-URPVMXJPSA-N   \n",
       "25  NDAYQJDHGXTBJL-MWWSRJDJSA-N   \n",
       "33  NFLWUMRGJYTJIN-PNIOQBSNSA-N   \n",
       "\n",
       "                                                inchi  \\\n",
       "5   InChI=1S/C98H138N24O33/c1-5-52(4)82(96(153)122...   \n",
       "6   InChI=1S/C59H84N16O12/c1-6-63-57(86)48-14-10-2...   \n",
       "13  InChI=1S/C59H84N18O14/c1-31(2)22-40(49(82)68-3...   \n",
       "25  InChI=1S/C96H135N19O16/c1-50(2)36-71(105-79(11...   \n",
       "33  InChI=1S/C46H64N14O12S2/c47-35(62)15-14-29-40(...   \n",
       "\n",
       "                                          description  \n",
       "5   Bivalirudin is a synthetic 20 residue peptide ...  \n",
       "6   Leuprolide is a synthetic 9-residue peptide an...  \n",
       "13  Goserelin is a synthetic hormone. In men, it s...  \n",
       "25  Gramcidin D is a heterogeneous mixture of thre...  \n",
       "33  Desmopressin (dDAVP), a synthetic analogue of ...  "
      ]
     },
     "execution_count": 150,
     "metadata": {},
     "output_type": "execute_result"
    }
   ],
   "source": [
    "drugbank_slim_df = drugbank_df[\n",
    "    drugbank_df.groups.map(lambda x: 'approved' in x) &\n",
    "    drugbank_df.inchi.map(lambda x: x is not None) &\n",
    "    drugbank_df.type.map(lambda x: x == 'small molecule')\n",
    "]\n",
    "drugbank_slim_df.head()"
   ]
  },
  {
   "cell_type": "code",
   "execution_count": 152,
   "metadata": {},
   "outputs": [],
   "source": [
    "# write drugbank tsv\n",
    "# path = os.path.join('data', 'drugbank.tsv')\n",
    "path = 'D:/WorkSpace/master_thesis/Drug_Bank/result/drugbank.tsv'\n",
    "drugbank_df.to_csv(path, sep='\\t', index=False)\n",
    "\n",
    "# write slim drugbank tsv\n",
    "# path = os.path.join('data', 'drugbank-slim.tsv')\n",
    "path = 'D:/WorkSpace/master_thesis/Drug_Bank/result/drugbank-slim.tsv'\n",
    "drugbank_slim_df.to_csv(path, sep='\\t', index=False)\n",
    "\n",
    "# approved drug data\n",
    "drugbank_approved_df = drugbank_df[\n",
    "    drugbank_df.groups.map(lambda x: 'approved' in x)]\n",
    "path = 'D:/WorkSpace/master_thesis/Drug_Bank/result/drugbank_approved.tsv'\n",
    "drugbank_approved_df.to_csv(path, sep='\\t', index=False)\n",
    "\n",
    "# write drugbank pickle data\n",
    "import pickle \n",
    "\n",
    "with open(\"D:/WorkSpace/master_thesis/Drug_Bank/result/drugbank.pkl\", \"wb\") as fw:\n",
    "    pickle.dump(drugbank_df, fw)\n"
   ]
  },
  {
   "cell_type": "markdown",
   "metadata": {},
   "source": [
    "## Extract protein information"
   ]
  },
  {
   "cell_type": "code",
   "execution_count": 243,
   "metadata": {},
   "outputs": [],
   "source": [
    "protein_rows = list()\n",
    "for i, drug in enumerate(root):\n",
    "    drugbank_id = drug.findtext(ns + \"drugbank-id[@primary='true']\")\n",
    "    for category in ['target', 'enzyme', 'carrier', 'transporter']:\n",
    "        proteins = drug.findall('{ns}{cat}s/{ns}{cat}'.format(ns=ns, cat=category))\n",
    "        for protein in proteins:\n",
    "            row = {'drugbank_id': drugbank_id, 'category': category}\n",
    "            row['organism'] = protein.findtext('{}organism'.format(ns))\n",
    "            row['known_action'] = protein.findtext('{}known-action'.format(ns))\n",
    "            actions = protein.findall('{ns}actions/{ns}action'.format(ns=ns))\n",
    "            row['actions'] = '|'.join(action.text for action in actions)\n",
    "            uniprot_ids = [polypep.text for polypep in protein.findall(\n",
    "                \"{ns}polypeptide/{ns}external-identifiers/{ns}external-identifier[{ns}resource='UniProtKB']/{ns}identifier\".format(ns=ns))]            \n",
    "            if len(uniprot_ids) != 1:\n",
    "                continue\n",
    "            row['uniprot_id'] = uniprot_ids[0]\n",
    "            ref_text = protein.findtext(\"{ns}references[@format='textile']\".format(ns=ns))\n",
    "            pmids = re.findall(r'pubmed/([0-9]+)', ref_text)\n",
    "            row['pubmed_ids'] = '|'.join(pmids)\n",
    "            protein_rows.append(row)\n",
    "\n",
    "protein_df = pandas.DataFrame.from_dict(protein_rows)"
   ]
  },
  {
   "cell_type": "code",
   "execution_count": 239,
   "metadata": {},
   "outputs": [],
   "source": [
    "# Read our uniprot to entrez_gene mapping\n",
    "response = requests.get('http://git.dhimmel.com/uniprot/data/map/GeneID.tsv.gz', stream=True)\n",
    "text = io.TextIOWrapper(gzip.GzipFile(fileobj=response.raw))\n",
    "uniprot_df = pandas.read_table(text, engine='python')\n",
    "uniprot_df.rename(columns={'uniprot': 'uniprot_id', 'GeneID': 'entrez_gene_id'}, inplace=True)\n",
    "\n",
    "# merge uniprot mapping with protein_df\n",
    "entrez_df = protein_df.merge(uniprot_df, how='inner')"
   ]
  },
  {
   "cell_type": "code",
   "execution_count": 240,
   "metadata": {},
   "outputs": [],
   "source": [
    "columns = ['drugbank_id', 'category', 'uniprot_id', 'entrez_gene_id', 'organism',\n",
    "           'known_action', 'actions', 'pubmed_ids']\n",
    "entrez_df = entrez_df[columns]"
   ]
  },
  {
   "cell_type": "code",
   "execution_count": 241,
   "metadata": {},
   "outputs": [],
   "source": [
    "path = os.path.join('data', 'proteins.tsv')\n",
    "entrez_df.to_csv(path, sep='\\t', index=False)"
   ]
  },
  {
   "cell_type": "code",
   "execution_count": 251,
   "metadata": {},
   "outputs": [
    {
     "data": {
      "text/plain": [
       "3757"
      ]
     },
     "execution_count": 251,
     "metadata": {},
     "output_type": "execute_result"
    }
   ],
   "source": [
    "# Number of unique genes with an interaction\n",
    "len(set(entrez_df.entrez_gene_id))"
   ]
  },
  {
   "cell_type": "code",
   "execution_count": 252,
   "metadata": {},
   "outputs": [
    {
     "data": {
      "text/plain": [
       "5878"
      ]
     },
     "execution_count": 252,
     "metadata": {},
     "output_type": "execute_result"
    }
   ],
   "source": [
    "# Number of unique drugs  with an interaction\n",
    "len(set(entrez_df.drugbank_id))"
   ]
  },
  {
   "cell_type": "code",
   "execution_count": null,
   "metadata": {
    "collapsed": true
   },
   "outputs": [],
   "source": []
  }
 ],
 "metadata": {
  "anaconda-cloud": {},
  "kernelspec": {
   "display_name": "Python 3",
   "language": "python",
   "name": "python3"
  },
  "language_info": {
   "codemirror_mode": {
    "name": "ipython",
    "version": 3
   },
   "file_extension": ".py",
   "mimetype": "text/x-python",
   "name": "python",
   "nbconvert_exporter": "python",
   "pygments_lexer": "ipython3",
   "version": "3.8.3"
  }
 },
 "nbformat": 4,
 "nbformat_minor": 1
}
