{
 "cells": [
  {
   "cell_type": "code",
   "execution_count": 7,
   "metadata": {},
   "outputs": [],
   "source": [
    "import pandas as pd\n",
    "\n",
    "df = pd.read_csv('D:/WorkSpace/master_thesis/Drug_Bank/drugbank_vocabulary.csv')"
   ]
  },
  {
   "cell_type": "code",
   "execution_count": 8,
   "metadata": {},
   "outputs": [
    {
     "name": "stdout",
     "output_type": "stream",
     "text": [
      "<class 'pandas.core.frame.DataFrame'>\n",
      "RangeIndex: 13580 entries, 0 to 13579\n",
      "Data columns (total 7 columns):\n",
      " #   Column              Non-Null Count  Dtype \n",
      "---  ------              --------------  ----- \n",
      " 0   DrugBank ID         13580 non-null  object\n",
      " 1   Accession Numbers   4448 non-null   object\n",
      " 2   Common name         13580 non-null  object\n",
      " 3   CAS                 8366 non-null   object\n",
      " 4   UNII                9263 non-null   object\n",
      " 5   Synonyms            6386 non-null   object\n",
      " 6   Standard InChI Key  10767 non-null  object\n",
      "dtypes: object(7)\n",
      "memory usage: 742.8+ KB\n",
      "None\n"
     ]
    }
   ],
   "source": [
    "print(df.info())"
   ]
  },
  {
   "cell_type": "code",
   "execution_count": 33,
   "metadata": {},
   "outputs": [],
   "source": [
    "# nan 여부 확인 함수\n",
    "def isNaN(num):\n",
    "    return num != num"
   ]
  },
  {
   "cell_type": "code",
   "execution_count": 39,
   "metadata": {},
   "outputs": [
    {
     "name": "stdout",
     "output_type": "stream",
     "text": [
      "13580\n"
     ]
    }
   ],
   "source": [
    "# Name 정리 (Common & Synonyms)\n",
    "drug_list = list()\n",
    "for i in range(len(df)):\n",
    "    common = df['Common name'][i]\n",
    "    synonyms = df['Synonyms'][i]    \n",
    "    if isNaN(synonyms):\n",
    "        drug_list.append(common)\n",
    "    else:\n",
    "        drug_list.append(common + ' | ' + synonyms)\n",
    "            \n",
    "\n",
    "print(len(drug_list))"
   ]
  },
  {
   "cell_type": "code",
   "execution_count": 40,
   "metadata": {},
   "outputs": [
    {
     "data": {
      "text/plain": [
       "list"
      ]
     },
     "execution_count": 40,
     "metadata": {},
     "output_type": "execute_result"
    }
   ],
   "source": [
    "type(drug_list)"
   ]
  }
 ],
 "metadata": {
  "kernelspec": {
   "display_name": "Python 3",
   "language": "python",
   "name": "python3"
  },
  "language_info": {
   "codemirror_mode": {
    "name": "ipython",
    "version": 3
   },
   "file_extension": ".py",
   "mimetype": "text/x-python",
   "name": "python",
   "nbconvert_exporter": "python",
   "pygments_lexer": "ipython3",
   "version": "3.8.3"
  }
 },
 "nbformat": 4,
 "nbformat_minor": 4
}
