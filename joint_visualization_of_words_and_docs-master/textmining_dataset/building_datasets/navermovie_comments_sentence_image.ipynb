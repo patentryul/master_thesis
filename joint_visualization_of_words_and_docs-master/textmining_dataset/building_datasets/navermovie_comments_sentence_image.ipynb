{
 "cells": [
  {
   "cell_type": "code",
   "execution_count": 1,
   "metadata": {},
   "outputs": [
    {
     "name": "stdout",
     "output_type": "stream",
     "text": [
      "soynlp == 0.0.491\n",
      "gensim == 3.6.0\n",
      "konlpy == 0.5.1\n"
     ]
    }
   ],
   "source": [
    "import config\n",
    "import navermovie_comments\n",
    "from navermovie_comments import load_movie_comments\n",
    "\n",
    "class Corpus:\n",
    "    def __init__(self, large, tokenize):\n",
    "        _, self.texts, self.rates = load_movie_comments(\n",
    "            large=large, tokenize=tokenize)\n",
    "    def __iter__(self):\n",
    "        for text, rate in zip(self.texts, self.rates):\n",
    "            yield text.split(), rate\n",
    "\n",
    "combinations = [\n",
    "    ('large', 'soynlp_unsup'),\n",
    "    ('small', 'soynlp_unsup'),\n",
    "]"
   ]
  },
  {
   "cell_type": "code",
   "execution_count": 2,
   "metadata": {},
   "outputs": [
    {
     "name": "stdout",
     "output_type": "stream",
     "text": [
      "done large\n",
      "done small\n"
     ]
    }
   ],
   "source": [
    "from navermovie_comments import load_trained_embedding\n",
    "\n",
    "def make_sentence_image(data_name, tokenize):\n",
    "    prefix = '../lovit_textmining_dataset/navermovie_comments/data/comments_image_{}'.format(tokenize)\n",
    "    model = load_trained_embedding(data_name=data_name, tokenize=tokenize)\n",
    "    vocab_to_idx = {vocab:idx for idx, vocab in enumerate(model.wv.index2word)}\n",
    "\n",
    "    large = data_name == 'large'\n",
    "    corpus = Corpus(large, tokenize)\n",
    "    X = []\n",
    "    y = []\n",
    "    for terms, rate in corpus:\n",
    "        terms = [vocab_to_idx[t] for t in terms if t in vocab_to_idx]\n",
    "        if not terms:\n",
    "            continue\n",
    "        X.append(terms)\n",
    "        y.append(rate)\n",
    "\n",
    "    x_path = '{}_{}_x'.format(prefix, data_name)\n",
    "    y_path = '{}_{}_y'.format(prefix, data_name)\n",
    "    vocab_path = '{}_{}_vocab.txt'.format(prefix, data_name)\n",
    "    with open(x_path, 'w', encoding='utf-8') as f:\n",
    "        for terms in X:\n",
    "            terms_strf = ' '.join(str(t) for t in terms)\n",
    "            f.write('{}\\n'.format(terms_strf))\n",
    "    with open(y_path, 'w', encoding='utf-8') as f:\n",
    "        for label in y:\n",
    "            f.write('{}\\n'.format(label))\n",
    "    with open(vocab_path, 'w', encoding='utf-8') as f:\n",
    "        for vocab in model.wv.index2word:\n",
    "            f.write('{}\\n'.format(vocab))\n",
    "\n",
    "for data_name, tokenize in combinations:\n",
    "    make_sentence_image(data_name, tokenize)\n",
    "    print('done {}'.format(data_name))"
   ]
  },
  {
   "cell_type": "code",
   "execution_count": null,
   "metadata": {},
   "outputs": [],
   "source": []
  }
 ],
 "metadata": {
  "kernelspec": {
   "display_name": "Python 3",
   "language": "python",
   "name": "python3"
  },
  "language_info": {
   "codemirror_mode": {
    "name": "ipython",
    "version": 3
   },
   "file_extension": ".py",
   "mimetype": "text/x-python",
   "name": "python",
   "nbconvert_exporter": "python",
   "pygments_lexer": "ipython3",
   "version": "3.7.1"
  }
 },
 "nbformat": 4,
 "nbformat_minor": 2
}
