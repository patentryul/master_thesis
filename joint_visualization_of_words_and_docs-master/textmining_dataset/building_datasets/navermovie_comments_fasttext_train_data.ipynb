{
 "cells": [
  {
   "cell_type": "code",
   "execution_count": 4,
   "metadata": {},
   "outputs": [
    {
     "name": "stdout",
     "output_type": "stream",
     "text": [
      "a -> None\n",
      "ㄱ -> ('ㄱ', ' ', ' ')\n",
      "가 -> ('ㄱ', 'ㅏ', ' ')\n",
      "ㅏ -> (' ', 'ㅏ', ' ')\n"
     ]
    }
   ],
   "source": [
    "import config\n",
    "from soynlp.hangle import decompose, compose\n",
    "\n",
    "for c in 'aㄱ가ㅏ':\n",
    "    print('{} -> {}'.format(c, decompose(c)))"
   ]
  },
  {
   "cell_type": "code",
   "execution_count": 12,
   "metadata": {
    "collapsed": true
   },
   "outputs": [],
   "source": [
    "import config\n",
    "from soynlp.hangle import decompose, compose\n",
    "from soynlp.normalizer import remove_doublespace\n",
    "\n",
    "def encode(s):\n",
    "    def process(c):\n",
    "        if c == ' ':\n",
    "            return c\n",
    "        jamo = decompose(c)\n",
    "        # 'a' or 모음 or 자음\n",
    "        if (jamo is None) or (jamo[0] == ' ') or (jamo[1] == ' '):\n",
    "            return ' '\n",
    "        base = jamo[0]+jamo[1]\n",
    "        if jamo[2] == ' ':\n",
    "            return base + '-'\n",
    "        return base + jamo[2]\n",
    "\n",
    "    s = ''.join(process(c) for c in s)\n",
    "    return remove_doublespace(s).strip()\n",
    "\n",
    "def decode(s):\n",
    "    def process(t):\n",
    "        assert len(t) % 3 == 0\n",
    "        t_ = t.replace('-', ' ')\n",
    "        chars = [tuple(t_[3*i:3*(i+1)]) for i in range(len(t_)//3)]\n",
    "        recovered = [compose(*char) for char in chars]\n",
    "        recovered = ''.join(recovered)\n",
    "        return recovered\n",
    "\n",
    "    return ' '.join(process(t) for t in s.split())"
   ]
  },
  {
   "cell_type": "code",
   "execution_count": 13,
   "metadata": {},
   "outputs": [
    {
     "data": {
      "text/plain": [
       "'ㄱㅏ-ㄴㅏ-ㄷㅏ- ㅇㅏ-ㅎㅏ-ㅎㅏㅅ'"
      ]
     },
     "execution_count": 13,
     "metadata": {},
     "output_type": "execute_result"
    }
   ],
   "source": [
    "s = '가나다ㅁ  asf 2 아하핫 1!!'\n",
    "encode(s)"
   ]
  },
  {
   "cell_type": "code",
   "execution_count": 14,
   "metadata": {},
   "outputs": [
    {
     "data": {
      "text/plain": [
       "'가나다 아하핫'"
      ]
     },
     "execution_count": 14,
     "metadata": {},
     "output_type": "execute_result"
    }
   ],
   "source": [
    "decode(encode(s))"
   ]
  },
  {
   "cell_type": "code",
   "execution_count": 21,
   "metadata": {
    "collapsed": true
   },
   "outputs": [],
   "source": [
    "from navermovie_comments import get_movie_comments_path\n",
    "\n",
    "for large in [False, True]:\n",
    "    inpath = get_movie_comments_path(large=large)\n",
    "    outpath = inpath[:-4] + '_fasttext.txt'\n",
    "    with open(inpath, encoding='utf-8') as fi:\n",
    "        with open(outpath, 'w', encoding='utf-8') as fo:\n",
    "            for line in fi:\n",
    "                idx, text, rate = line.strip().split('\\t')\n",
    "                text = encode(text)\n",
    "                fo.write('{}\\t{}\\t{}\\n'.format(idx, text, rate))"
   ]
  },
  {
   "cell_type": "code",
   "execution_count": null,
   "metadata": {
    "collapsed": true
   },
   "outputs": [],
   "source": []
  }
 ],
 "metadata": {
  "kernelspec": {
   "display_name": "Python 3",
   "language": "python",
   "name": "python3"
  },
  "language_info": {
   "codemirror_mode": {
    "name": "ipython",
    "version": 3
   },
   "file_extension": ".py",
   "mimetype": "text/x-python",
   "name": "python",
   "nbconvert_exporter": "python",
   "pygments_lexer": "ipython3",
   "version": "3.6.2"
  }
 },
 "nbformat": 4,
 "nbformat_minor": 2
}
