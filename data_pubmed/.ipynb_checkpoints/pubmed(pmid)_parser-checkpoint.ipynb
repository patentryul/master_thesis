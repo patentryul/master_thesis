{
 "cells": [
  {
   "cell_type": "code",
   "execution_count": 1,
   "metadata": {},
   "outputs": [],
   "source": [
    "# import\n",
    "from xml.etree import ElementTree as ET\n",
    "from xml.etree.ElementTree import Element, dump, ElementTree\n",
    "\n",
    "# Use Open source 'pubmed_parser'\n",
    "import pubmed_parser as pp"
   ]
  },
  {
   "cell_type": "code",
   "execution_count": 2,
   "metadata": {},
   "outputs": [
    {
     "name": "stdout",
     "output_type": "stream",
     "text": [
      "pmid/pmid-Dornasealf-set.txt\n",
      "pmid/pmid-Lepirudin-set.txt\n",
      "pmid/pmid-Ximelagatr-set.txt\n"
     ]
    }
   ],
   "source": [
    "import glob\n",
    "\n",
    "targetPattern = r\"pmid/*.txt\"\n",
    "pmidFile = glob.glob(targetPattern)\n",
    "\n",
    "# convert python style path\n",
    "for i in range(len(pmidFile)):\n",
    "    pmidFile[i] = pmidFile[i].replace('\\\\', '/')\n",
    "    print(pmidFile[i])"
   ]
  },
  {
   "cell_type": "code",
   "execution_count": 3,
   "metadata": {},
   "outputs": [],
   "source": [
    "# f = open(pmidFile[0], 'rt', encoding='UTF8')\n",
    "documents = dict()\n",
    "\n",
    "for idFile in pmidFile:\n",
    "    drug_name = idFile.split('pmid/pmid-')[1].split('.')[0].split('-')[0]\n",
    "    \n",
    "    pmid_list = list()\n",
    "    with open(idFile, 'rt', encoding='UTF8') as f:\n",
    "        for i in f.readlines():\n",
    "            pmid_list.append(i[:-1])\n",
    "    \n",
    "    contents = list()\n",
    "    for pmid in pmid_list:\n",
    "        data = pp.parse_xml_web(pmid, sleep=1, save_xml=False)\n",
    "        title = data['title']\n",
    "        abstract = data['abstract']\n",
    "        contents.append((title + ' ' + abstract + ' '))\n",
    "        \n",
    "    documents[drug_name] = contents\n"
   ]
  },
  {
   "cell_type": "code",
   "execution_count": 4,
   "metadata": {},
   "outputs": [],
   "source": [
    "from pathlib import Path\n",
    "import pickle\n",
    "\n",
    "# select path\n",
    "pickle_path = 'pmid/documents.pkl'\n",
    "pickle_path = Path(pickle_path)\n",
    "\n",
    "\n",
    "with open(pickle_path, 'wb') as f:\n",
    "    pickle.dump(documents, f)\n"
   ]
  }
 ],
 "metadata": {
  "kernelspec": {
   "display_name": "Python 3",
   "language": "python",
   "name": "python3"
  },
  "language_info": {
   "codemirror_mode": {
    "name": "ipython",
    "version": 3
   },
   "file_extension": ".py",
   "mimetype": "text/x-python",
   "name": "python",
   "nbconvert_exporter": "python",
   "pygments_lexer": "ipython3",
   "version": "3.8.3"
  }
 },
 "nbformat": 4,
 "nbformat_minor": 4
}
