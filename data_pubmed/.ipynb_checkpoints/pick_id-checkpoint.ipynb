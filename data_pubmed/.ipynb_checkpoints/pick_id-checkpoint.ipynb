{
 "cells": [
  {
   "cell_type": "code",
   "execution_count": null,
   "metadata": {},
   "outputs": [],
   "source": [
    "import glob\n",
    "\n",
    "targetPattern = r\"pmid/*.txt\"\n",
    "pmidFile = glob.glob(targetPattern)\n",
    "\n",
    "# convert python style path\n",
    "for i in range(len(pmidFile)):\n",
    "    pmidFile[i] = pmidFile[i].replace('\\\\', '/')\n",
    "    print(pmidFile[i])"
   ]
  },
  {
   "cell_type": "code",
   "execution_count": null,
   "metadata": {},
   "outputs": [],
   "source": [
    "# f = open(pmidFile[0], 'rt', encoding='UTF8')\n",
    "documents = dict()\n",
    "\n",
    "for idFile in pmidFile:\n",
    "    drug_name = idFile.split('pmid/pmid-')[1].split('.')[0].split('-')[0]\n",
    "    \n",
    "    pmid_list = list()\n",
    "    with open(idFile, 'rt', encoding='UTF8') as f:\n",
    "        for i in f.readlines():\n",
    "            pmid_list.append(i[:-1])\n",
    "    \n",
    "    contents = list()\n",
    "    for pmid in pmid_list:\n",
    "        data = pp.parse_xml_web(pmid, sleep=1, save_xml=False)\n",
    "        title = data['title']\n",
    "        abstract = data['abstract']\n",
    "        contents.append((title + ' ' + abstract + ' '))\n",
    "        \n",
    "    documents[drug_name] = contents\n"
   ]
  }
 ],
 "metadata": {
  "kernelspec": {
   "display_name": "Python 3",
   "language": "python",
   "name": "python3"
  },
  "language_info": {
   "codemirror_mode": {
    "name": "ipython",
    "version": 3
   },
   "file_extension": ".py",
   "mimetype": "text/x-python",
   "name": "python",
   "nbconvert_exporter": "python",
   "pygments_lexer": "ipython3",
   "version": "3.8.3"
  }
 },
 "nbformat": 4,
 "nbformat_minor": 4
}
