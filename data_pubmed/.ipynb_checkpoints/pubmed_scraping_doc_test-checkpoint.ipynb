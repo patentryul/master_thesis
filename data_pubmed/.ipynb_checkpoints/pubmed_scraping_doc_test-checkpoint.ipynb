{
 "cells": [
  {
   "cell_type": "code",
   "execution_count": 1,
   "metadata": {},
   "outputs": [],
   "source": [
    "# import\n",
    "from xml.etree import ElementTree as ET\n",
    "from xml.etree.ElementTree import Element, dump, ElementTree\n",
    "import numpy as np\n",
    "\n",
    "# Use Open source 'pubmed_parser'\n",
    "import pubmed_parser as pp"
   ]
  },
  {
   "cell_type": "code",
   "execution_count": 3,
   "metadata": {},
   "outputs": [],
   "source": [
    "import pickle\n",
    "\n",
    "with open(\"D:/WorkSpace/master_thesis/Drug_Bank/result/approved_pmid.pkl\", \"rb\") as fr:\n",
    "    approved_pmid = pickle.load(fr)"
   ]
  },
  {
   "cell_type": "code",
   "execution_count": 4,
   "metadata": {},
   "outputs": [],
   "source": [
    "# Drug bank common name list\n",
    "import pandas as pd\n",
    "drugbank_approved_df = pd.read_csv('D:/WorkSpace/master_thesis/Drug_Bank/result/drugbank_approved.tsv', sep='\\t')\n",
    "drugName = drugbank_approved_df['name']\n"
   ]
  },
  {
   "cell_type": "code",
   "execution_count": 5,
   "metadata": {},
   "outputs": [
    {
     "name": "stdout",
     "output_type": "stream",
     "text": [
      "0. Lepirudin - Success getting documents\n",
      "1. Cetuximab - Success getting documents\n",
      "2. Dornase alfa - Success getting documents\n",
      "3. Denileukin diftitox - Success getting documents\n",
      "4. Etanercept - Success getting documents\n"
     ]
    }
   ],
   "source": [
    "import requests\n",
    "from lxml import etree\n",
    "from lxml import html\n",
    "\n",
    "# esearch ================================================================\n",
    "# # Hyper parameter\n",
    "# reldate = '3650' # 10 years\n",
    "# retmax = '20'\n",
    "# i = 0 # for test\n",
    "\n",
    "# search_base = 'https://eutils.ncbi.nlm.nih.gov/entrez/eutils/esearch.fcgi?db=pubmed&term='\n",
    "# search_url = search_base + drugName[i] + '[title]&reldate=' + reldate + '&datetype=pdat&retmax=' + retmax +'&usehistory=y'\n",
    "\n",
    "# # get pmid xml data\n",
    "# page = requests.get(search_url)\n",
    "# tree = html.fromstring(page.content)\n",
    "\n",
    "# # get pmid by drug name\n",
    "# pmid_list = ''\n",
    "# for pmid in tree.xpath(\"//idlist/id\"):\n",
    "#     pmid_list = \",\".join(pmid_list)\n",
    "# esearch ================================================================\n",
    "\n",
    "\n",
    "# fetch_base = 'https://eutils.ncbi.nlm.nih.gov/entrez/eutils/efetch.fcgi?db=pubmed&id=' \n",
    "# retmode = '&retmode=xml'\n",
    "\n",
    "documents = dict()\n",
    "# for i in range(len(drugName)):\n",
    "for i in range(5):\n",
    "    # fetch by pmid\n",
    "    pmid_list = \",\".join(approved_pmid[drugName[i]])\n",
    "\n",
    "    try:\n",
    "        data = pp.parse_xml_web(pmid_list, sleep=1, save_xml=False)\n",
    "        title = data['title']\n",
    "        abstract = data['abstract']\n",
    "        \n",
    "        if title is not None:\n",
    "            documents[drugName[i]] = (title + ' ' + abstract + ' ')\n",
    "            print(str(i) + '. '  + drugName[i] + ' - Success getting documents'  )\n",
    "        else:\n",
    "            print(str(i) + '. - No result')\n",
    "            \n",
    "    except Exception as e:\n",
    "        print(str(i) + '. ' + drugName[i] +' - Fail')\n",
    "        print(e)\n",
    "            \n",
    "    \n"
   ]
  },
  {
   "cell_type": "code",
   "execution_count": 9,
   "metadata": {},
   "outputs": [
    {
     "data": {
      "text/plain": [
       "'The Direct Thrombin Inhibitors Dabigatran and Lepirudin Inhibit GPIbα-Mediated Platelet Aggregation. Monitoring of argatroban and lepirudin anticoagulation in critically ill patients by conventional laboratory parameters and rotational thromboelastometry - a prospectively controlled randomized double-blind clinical trial. Comparisons of argatroban to lepirudin and bivalirudin in the treatment of heparin-induced thrombocytopenia: a systematic review and meta-analysis. Monitoring of Argatroban and Lepirudin: What is the Input of Laboratory Values in \"Real Life\"? Comparison of bivalirudin to lepirudin and argatroban in patients with heparin-induced thrombocytopenia. Argatroban versus Lepirudin in critically ill patients (ALicia): a randomized controlled trial. Comparison of antithrombotic and hemorrhagic effects of edoxaban, a novel factor Xa inhibitor, with unfractionated heparin, dalteparin, lepirudin and warfarin in rats. Heparin-induced thrombocytopenia: comparison between response to fondaparinux and lepirudin. Lepirudin dose-dependently increases thrombelastography parameters at therapeutic plasma concentrations as measured with ROTEM® - a pilot study. Evaluation of a standardized protocol using lepirudin or argatroban for heparin-induced thrombocytopenia. On the dosing of lepirudin. Resolution of left ventricular thrombus with lepirudin after failed treatment with heparin. Lepirudin as an alternative to \"heparin allergy\" during cardiopulmonary bypass. Monitoring of the anticoagulants argatroban and lepirudin: a comparison of laboratory methods. The direct thrombin inhibitor (DTI) dabigatran is a non-vitamin K antagonist oral anticoagulant for the prevention of stroke and systemic embolism in patients with non-valvular atrial fibrillation. In addition to its anti-thrombotic efficacy, dabigatran has been suggested to exert some pro-thrombotic effect due to fostering the ligation of thrombin to its high affinity platelet receptor glycoprotein (GP) Ibα in patients with atrial fibrillation. On the other hand, we provided evidence that a member of another class of DTIs, lepirudin, stimulates the inhibitory cyclic guanosine monophosphate (cGMP)/soluble guanylate cyclase pathway in human platelets. Here, we investigated the effect of lepirudin and dabigatran spiked to platelets from healthy volunteers on GPIbα-mediated platelet aggregation and agglutination. Ristocetin/von Willebrand factor (vWF)-induced aggregation of platelets in the presence or absence of plasma was significantly inhibited by lepirudin, dabigatran and D-phenylalanyl-L-prolyl-L-arginine chloromethyl ketone (PPACK). However, ristocetin/vWF-mediated platelet agglutination and binding of vWF to platelets were not affected by the DTIs. The anti-aggregatory effect was confirmed by using the GPIbα-specific agonist echicetin beads for human and murine platelets. DTIs diminished echicetin beads-induced Syk Y352 phosphorylation (used here as readout for an early signal occurring during echicetin-induced platelet aggregation), but did not inhibit adenosine diphosphate- or thromboxane A2-induced platelet aggregation. Thrombin was not generated in response to ristocetin/vWF or echicetin beads and therefore did not explain the inhibitory effect of the DTIs. Therapeutic concentration of lepirudin and dabigatran did not affect significantly platelet vasodilator-stimulated phosphoprotein S239 phosphorylation or cGMP and cyclic adenosine monophosphate levels. These data suggest that the DTIs, lepirudin and dabigatran, impair platelet activation measured during platelet aggregation induced by ristocetin/vWF or echicetin beads. Argatroban or lepirudin anticoagulation therapy in patients with heparin induced thrombocytopenia (HIT) or HIT suspect is typically monitored using the activated partial thromboplastin time (aPTT). Although aPTT correlates well with plasma levels of argatroban and lepirudin in healthy volunteers, it might not be the method of choice in critically ill patients. However, in-vivo data is lacking for this patient population. Therefore, we studied in vivo whether ROTEM or global clotting times would provide an alternative for monitoring the anticoagulant intensity effects in critically ill patients. This study was part of the double-blind randomized trial \"Argatroban versus Lepirudin in critically ill patients (ALicia)\", which compared critically ill patients treated with argatroban or lepirudin. Following institutional review board approval and written informed consent, for this sub-study blood of 35 critically ill patients was analysed. Before as well as 12, 24, 48 and 72\\xa0h after initiation of argatroban or lepirudin infusion, blood was analysed for aPTT, aPTT ratios, thrombin time (TT), INTEM CT,INTEM CT ratios, EXTEM CT, EXTEM CT ratios and maximum clot firmness (MCF) and correlated with the corresponding plasma concentrations of the direct thrombin inhibitor. To reach a target aPTT of 1.5 to 2 times baseline, median [IQR] plasma concentrations of 0.35 [0.01-1.2] μg/ml argatroban and 0.17 [0.1-0.32] μg/ml lepirudin were required. For both drugs, there was no significant correlation between aPTT and aPTT ratios and plasma concentrations. INTEM CT, INTEM CT ratios, EXTEM CT, EXTEM CT ratios, TT and TT ratios correlated significantly with plasma concentrations of both drugs. Additionally, agreement between argatroban plasma levels and EXTEM CT and EXTEM CT ratios were superior to agreement between argatroban plasma levels and aPTT in the Bland Altman analysis. MCF remained unchanged during therapy with both drugs. In critically ill patients, TT and ROTEM parameters may provide better correlation to argatroban and lepirudin plasma concentrations than aPTT. ClinicalTrials.gov , NCT00798525 , registered on 25 Nov 2008. To prevent thromboembolic events associated with heparin-induced thrombocytopenia (HIT), patients usually are treated with argatroban, lepirudin, and bivalirudin. Here, we conducted a meta-analysis of studies to comparing the treatment of HIT with the following direct thrombin inhibitor: argatroban versus lepirudin and argatroban versus bivalirudin. We systematically searched PubMed, Embase, and Cochrane Library database for relevant studies. The clinical outcomes were thromboembolic complication and bleeding. A total of 589 articles were found and 9 of which were finally included in this meta-analysis. There were no significantly differences of thromboembolic complication between argatroban and hirudin analogues (lepirudin and bivalirudin) in the treatment of HIT (lepirudin: RR\\xa0=\\xa00.773, 95% CI\\xa0=\\xa00.449-1.331, P\\xa0=\\xa00.353; bivalirudin: RR\\xa0=\\xa00.768, 95% CI\\xa0=\\xa00.386-1.527, P\\xa0=\\xa00.452). Moreover, the incidence of clinical bleeding of argatroban was similar to hirudin analogues (lepirudin: RR\\xa0=\\xa00.755, 95% CI\\xa0=\\xa00.531-1.073, P\\xa0=\\xa00.117; bivalirudin: RR\\xa0=\\xa00.995, 95% CI\\xa0=\\xa00.673-1.472, P\\xa0=\\xa00.981). Current evidences show that argatroban has the similar effectiveness and safety with lepirudin and bivalirudin for defending against HIT. Monitoring of direct thrombin inhibitors (DTIs) in patients with heparin-induced thrombocytopenia (HIT) is primarily performed using the activated partial thromboplastin time (aPTT). This assay is poorly standardized, reagent dependent, and not DTI specific. We compared aPTT, thrombin time (TT), and prothrombin time (PT) to drug levels obtained by the ecarin chromogenic assay (ECA). We analyzed 495 samples of patients with confirmed or suspected HIT on treatment with either argatroban (n = 37) or lepirudin (n = 80). Mean DTI levels ± standard deviation (SD) were 0.41 ± 0.36 µg/mL for argatroban and 0.20 ± 0.21 µg/mL for lepirudin. Results of aPTT were highly variable: 67 ± 22 seconds for argatroban and 55 ± 20 seconds for lepirudin. Significant correlations ( P < .01) were found between ECA-based DTI level and TT (argatroban, r = .820 and lepirudin, r = .830), PT (argatroban, r = -.544), and aPTT (lepirudin, r = .572). However, there was no correlation of aPTT with argatroban or PT with lepirudin concentration. Multiple regression analyses revealed that the TT predicted 54% of argatroban and 42% of lepirudin levels, but no significant impact was seen for PT or aPTT. The aPTT-guided monitoring of DTI therapy leads to a high percentage of patients with inaccurate plasma levels, hence resulting to either undertreatment or overtreatment. Knowledge of baseline values prior to DTI therapy and inclusion of clinical settings are essential for dosing DTIs when using aPTT. However, due to several limitations of aPTT, monitoring according to exact plasma concentrations as obtained by specific tests such as ECA may be more appropriate. To evaluate the safety, effectiveness, and dosing of off-label bivalirudin to argatroban and lepirudin in patients with heparin-induced thrombocytopenia (HIT) using a new pharmacist driven protocol. Retrospective cohort study of forty eight patients treated with lepirudin, argatroban, or bivalirudin from November 2010 to February 2012 for suspected HIT. Patients were excluded if the bivalirudin therapy was being used for acute coronary syndrome or if the treatment duration was less than 24 hours. The primary endpoint was time to therapeutic activated partial thromboplastin time (aPTT 50-90 seconds for argatroban and bivalirudin and 50-85 seconds for lepirudin). The secondary endpoints were elevation in international normalized ratio (INR), bleeding episodes, and percent time in aPTT target range. Patients receiving bivalirudin reached a therapeutic aPTT more quickly than those receiving argatroban and lepirudin (3.7 hours vs. 14.2 hours vs. 14.7 hours, p <0.001). The INR was increased more in patients treated with argatroban than lepirudin and bivalirudin (1.3 vs. 0.3 vs. 0.4, p = 0.4). Clinically significant bleeding in patients treated with bivalirudin was significantly lower than that observed with argatroban or lepirudin (7% vs. 22% vs. 56%, p = 0.02). The average percentage of therapeutic aPTTs drawn was higher for patients treated with bivalirudin than those patients treated with argatroban and lepirudin (90% vs. 66% vs. 67%, p = 0.2). A pharmacist-driven protocol for bivalirudin provided a significantly shorter time to therapeutic aPTT and lower bleeding rate for patients being treated for HIT when compared to lepirudin and argatroban. A larger study should be considered to confirm the results of this single center study. Critically ill patients often require renal replacement therapy accompanied by thrombocytopenia. Thrombocytopenia during heparin anticoagulation may be due to heparin-induced thrombocytopenia with need for alternative anticoagulation. Therefore, we compared argatroban and lepirudin in critically ill surgical patients. Following institutional review board approval and written informed consent, critically ill surgical patients more than or equal to 18 years with suspected heparin-induced thrombocytopenia, were randomly assigned to receive double-blind argatroban or lepirudin anticoagulation targeting an activated Partial Thromboplastin Time (aPTT) of 1.5 to 2 times baseline. In patients requiring continuous renal replacement therapy we compared the life-time of hemodialysis filters. We evaluated in all patients the incidence of bleeding and thrombembolic events. We identified 66 patients with suspected heparin-induced thrombocytopenia, including 28 requiring renal replacement therapy. Mean filter lifetimes did not differ between groups (argatroban 32\\u2009±\\u200925 hours (n = 12) versus lepirudin 27\\u2009±\\u200921 hours (n = 16), mean difference 5 hours, 95% CI -13 to 23, P = 0.227). Among all 66 patients, relevant bleeding occurred in four argatroban- versus eleven lepirudin-patients (OR 3.9, 95% CI 1.1 to 14.0, P = 0.040). In the argatroban-group, three thromboembolic events occurred compared to two in the lepirudin group (OR 0.7, 95% CI 0.1 to 4.4, P = 0.639). The incidence of confirmed heparin-induced thrombocytopenia was 23% (n = 15) in our study population. This first randomized controlled double-blind trial comparing two direct thrombin inhibitors showed comparable effectiveness for renal replacement therapy, but suggests fewer bleeds in surgical patients with argatroban anticoagulation. Clinical Trials.gov NCT00798525. Registered 25 November 2008. Edoxaban is a novel, potent and orally active direct Factor Xa (FXa) inhibitor under development for prophylaxis and treatment of thromboembolic diseases. Properties of dose response and margin of safety of anticoagulants are the key factors for a positive risk/benefit of novel oral anticoagulants. To compare the dose response of antithrombotic effect and margin of safety between antithrombotic and hemorrhagic effects of edoxaban with conventional anticoagulants, unfractionated heparin (UFH), dalteparin (low molecular weight heparin), lepirudin, and warfarin in rat models of thrombosis and hemorrhage. Rats were treated with edoxaban, UFH, dalteparin, and lepirudin by continuous intravenous (iv) infusion, or with oral warfarin for 4 days before inducing thrombosis or bleeding. Thrombosis was induced by inserting a platinum wire into the inferior vena cava for 60 minutes. Tail template bleeding time was measured after making an incision on the tail. In rats, iv infusion of edoxaban inhibited venous thrombosis in a dose-dependent manner. The other anticoagulants also exerted dose-dependent antithrombotic effects. The slopes of the dose-response curves of edoxaban were significantly shallower than the slopes of UFH, dalteparin, and warfarin. At supratherapeutic doses, edoxaban prolonged bleeding time in a rat tail bleeding model. To determine bleeding risk, the margins between antithrombotic and bleeding-time prolongation were compared. The margins of safety of edoxaban were wider than those of UFH, dalteparin, lepirudin, and warfarin. These results suggest that edoxaban may be more easily controlled and has the potential for a more positive risk/benefit ratio compared to conventional anticoagulants. Patients with heparin-induced thrombocytopenia (HIT) require anticoagulation with alternative immediate acting anticoagulants such as lepirudin. Lepirudin may generate antibodies that increase risk of bleeding. Fondaparinux, on the other hand, is structurally too short to induce antibody formation, and therefore, it could be a useful agent for the treatment of HIT. University teaching hospital in Saudi Arabia. A retrospective study was conducted at a university teaching hospital on HIT cases which were diagnosed between January 2006 and December 2009. The diagnosis was based on clinical findings consistent with HIT presentation (i.e., a confirmed fall in the platelet count to <100 × 10(9)/L or a 50% reduction from baseline, four or more days after starting heparin therapy, with exclusion of other causes of thrombocytopenia) and a positive immunoassay test. Twelve HIT patients (6 males and 6 females) met the inclusion criteria. Fondaparinux was given to five subjects while lepirudin was utilized in seven patients. The median age was 65 years in the fondaparinux group, and 55 years in the lepirudin group. Nine patients (75%) were on heparin infusion, while three (25%) were on subcutaneous heparin or heparin flushes prior to HIT diagnosis. Frequencies of concomitant chronic diseases as well as other treatments including antiplatelets were similar between the two groups (P > 0.05). The time for platelets recovery was similar between the two groups (Median = 4 days for both arms; P = 0.736). Furthermore, fondaparinux therapy was associated with bigger area under platelet count compared to lepirudin (8,179 vs. 5,768 cell × 10(9)*day/L; P = 0.0303), and higher nadir counts (89 vs. 44 cell × 10(9)/L; P = 0.061). The current study suggests that fondaparinux is a potential alternative treatment for HIT. Further larger studies are needed to confirm our findings. The aim of this in-vitro pilot study was to assess the usefulness of the thrombelastograph ROTEM® for determining the anticoagulant activity of lepirudin. The ROTEM® parameters, clotting-time, clot formation time and maximum clot firmness were measured in the presence of increasing concentrations of lepirudin (10-4 μg/ml - 10 μg/ml). Citrated blood was obtained from 16 healthy male subjects. Clotting-time increased from 79.1 ± 53.4 s at baseline to 194.1 ± 151.9 s at a drug concentration of 1μg/ml as measured with EXTEM (p < 0.0001). Borderline significance was found for the difference between maximum clot firmness at baseline (60.2 ± 4.3 mm) and after drug application (55.5 ± 6.5 mm). This pilot investigation shows that the ROTEM® device may be suitable for monitoring lepirudin at low concentrations but the results should be confirmed in a larger study and the ROTEM® device validated against standard methods. To evaluate the effectiveness of our institutions heparin-induced thrombocytopenia (HIT) protocol in achieving a therapeutic activated partial thromboplastin time (aPTT) and to evaluate patient outcomes related to bleeding and thrombotic events before and after protocol implementation. Retrospective, single-center, pre- and post- assessment of a protocol previously approved at our institution. 400-bed community hospital serving surrounding rural populations with emphasis in cardiothoracic surgery. Retrospective chart review based on drug charge data identified 29 patients that received either argatroban or lepirudin for greater than 24 hours. Nineteen patients received either argatroban or lepirudin prior to HIT-protocol implementation, while the remaining ten received either drug after the HIT protocol was implemented. Implementation of HIT protocol occurred in March 2009. Patients were divided into pre-protocol and post-protocol groups. Primary outcome was to evaluate the number of therapeutic, subtherapeutic, and supratherapeutic aPTTs between two groups. In the pre-protocol group, aPTTs were therapeutic, subtherapeutic, and supratherapeutic 48.5% (164/338), 14.2% (48/338), and 37.2% (126/338) of the time, respectively. Meanwhile aPTTs in the post-protocol group were therapeutic, subtherapeutic, and supratherapeutic 46.6% (89/191), 22% (42/191), and 31.4% (60/191) of the time, respectively. The number of subtherapeutic aPTTs was statistically higher in the post-protocol group compared to the pre-protocol group. Secondary endpoints included the number of bleeding events and number of thrombotic events. None of the secondary endpoints reached statistical significance. Time to therapeutic aPTT was also evaluated: in the pre-protocol group median time (range) was 15 hours (2-108.6) compared to 8.1 hours (2.3-94.2) in the post-protocol group. Adoption and implementation of HIT protocol at our institution resulted in significantly more subtherapeutic aPTTs as compared to time prior to protocol. Although not statistically significant, the time required to obtain therapeutic aPTT was reduced by almost 50% after protocol implementation, which could be of clinical importance. Larger studies are needed to continue to assess if standardized protocols are effective in treatment of HIT. A 49-year-old man was admitted with high-risk left ventricular thrombosis and systemic embolization. Prompt and complete resolution of the thrombus was achieved under intravenous lepirudin administration but not under full-dose heparin treatment. Medical physicians, including emergency medicine physicians, cardiologists, cardiac surgeons, and hematologists, should become more aware of these alternative anticoagulant treatments, especially in cases when other therapeutic options (such as thrombolysis or cardiac surgery) may be associated with high morbidity or mortality. A treatment strategy of a difficult and unusual problem is presented. We are reporting a case of a patient who had a documented allergy to heparin and required Cardiac surgery for an ASD closure. The anticoagulation regime used during cardiopulmonary bypass was lepirudin based. This report indicates that r-hirudin provides effective anticoagulation, however unless ECT is monitoring, post operative hemorrhage is encountered. Therefore this case is unique not only because of its rarity but also by the fact that it presents the caveats encountered when ECT is not available. Monitoring of direct inhibitors of thrombin (DTI) is critical for their safe and effective use as anticoagulants. We examined samples containing several concentrations of argatroban or lepirudin in reconstituted standard human plasma and plasma from medical outpatients and intensive care patients. Prothrombin time (PT), activated partial thromboplastin time (aPTT), and thrombin time (TT) were determined using automated analyzers. Ecarin clotting time (ECT) was measured using a 10 IU/mL dilution of ecarin in 0.05 mol/L CaCl(2). Calibration curves were approximately linear for TT and ECT in samples containing argatroban and lepirudin, respectively. Activated partial thromboplastin curves reached a plateau at DTI concentrations ≥2 µg/mL, suggesting that the aPTT may not reliably detect overdosing. Prothrombin time increased exponentially. A broad range of clotting times was seen in patient samples with all tests suggesting that individual morbidity and therapies may strongly influence test results and may lead to underestimation of DTI doses. '"
      ]
     },
     "execution_count": 9,
     "metadata": {},
     "output_type": "execute_result"
    }
   ],
   "source": [
    "documents['Lepirudin']"
   ]
  },
  {
   "cell_type": "code",
   "execution_count": 30,
   "metadata": {},
   "outputs": [],
   "source": [
    "with open(\"D:/WorkSpace/master_thesis/data_pubmed/documents/result_documents.pkl\", \"wb\") as fw:\n",
    "    pickle.dump(documents, fw)"
   ]
  }
 ],
 "metadata": {
  "kernelspec": {
   "display_name": "Python 3",
   "language": "python",
   "name": "python3"
  },
  "language_info": {
   "codemirror_mode": {
    "name": "ipython",
    "version": 3
   },
   "file_extension": ".py",
   "mimetype": "text/x-python",
   "name": "python",
   "nbconvert_exporter": "python",
   "pygments_lexer": "ipython3",
   "version": "3.9.2"
  }
 },
 "nbformat": 4,
 "nbformat_minor": 4
}
