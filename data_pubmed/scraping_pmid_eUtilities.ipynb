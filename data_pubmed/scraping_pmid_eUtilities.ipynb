{
 "cells": [
  {
   "cell_type": "code",
   "execution_count": 4,
   "metadata": {},
   "outputs": [],
   "source": [
    "import sys\n",
    "import re\n",
    "import time\n",
    "import requests\n",
    "from lxml import etree\n",
    "from lxml import html\n",
    "import pickle\n",
    "# from unidecode import unidecode"
   ]
  },
  {
   "cell_type": "code",
   "execution_count": 2,
   "metadata": {},
   "outputs": [],
   "source": [
    "# approved drug data - from Drug bank complete data\n",
    "import pandas as pd\n",
    "drugbank_approved_df = pd.read_csv('D:/WorkSpace/master_thesis/Drug_Bank/result/drugbank_approved.tsv', sep='\\t')\n",
    "drugName = drugbank_approved_df['name']"
   ]
  },
  {
   "cell_type": "code",
   "execution_count": 3,
   "metadata": {},
   "outputs": [],
   "source": [
    "# Base URL (Required Parameter: db)\n",
    "base_url = 'https://eutils.ncbi.nlm.nih.gov/entrez/eutils/esearch.fcgi?db=pubmed&term='\n",
    "\n",
    "# Hyper parameter\n",
    "reldate = '3650' # 10 years\n",
    "# retmax case: 20 / 50 / 100 / 500 / 1000\n",
    "# retmax = '20' \n",
    "retmax = '100'\n",
    "\n",
    "# pmid set by drug name\n",
    "pmid_set = dict()\n",
    "\n",
    "for i in range(len(drugName)):\n",
    "    # Define url\n",
    "    search_url = base_url + drugName[i] + '[title]&reldate=' + reldate + '&datetype=pdat&retmax=' + retmax +'&usehistory=y'\n",
    "\n",
    "    # get xml data\n",
    "    page = requests.get(search_url)\n",
    "    tree = html.fromstring(page.content)\n",
    "\n",
    "    # get pmid by drug name\n",
    "    pmid_list = list()\n",
    "    for pmid in tree.xpath(\"//idlist/id\"):\n",
    "        pmid_list.append(pmid.text)\n",
    "    \n",
    "    pmid_set[drugName[i]] = pmid_list    \n"
   ]
  },
  {
   "cell_type": "code",
   "execution_count": 4,
   "metadata": {},
   "outputs": [],
   "source": [
    "with open(\"D:/WorkSpace/master_thesis/Drug_Bank/result/approved_pmid_100.pkl\", \"wb\") as fw:\n",
    "    pickle.dump(pmid_set, fw)"
   ]
  },
  {
   "cell_type": "code",
   "execution_count": 5,
   "metadata": {},
   "outputs": [
    {
     "name": "stdout",
     "output_type": "stream",
     "text": [
      "4270\n"
     ]
    }
   ],
   "source": [
    "with open(\"D:/WorkSpace/master_thesis/Drug_Bank/result/approved_pmid_100.pkl\", \"rb\") as f:\n",
    "    read_pmid = pickle.load(f)\n",
    "\n",
    "print(len(read_pmid))"
   ]
  },
  {
   "cell_type": "code",
   "execution_count": 20,
   "metadata": {},
   "outputs": [],
   "source": [
    "# pmid가 100개 이상인 Drug들의 pmid list만 정리\n",
    "over_100_list = dict()\n",
    "\n",
    "for key in read_pmid.keys():\n",
    "#     print(len(read_pmid[key]))\n",
    "    if len(read_pmid[key]) == 100:\n",
    "        over_100_list[key] = read_pmid[key] \n",
    "#     print(key + ' - '+str(len(read_pmid[key])))\n",
    "\n",
    "with open(\"D:/WorkSpace/master_thesis/Drug_Bank/result/approved_pmid_oevr_100.pkl\", \"wb\") as fw:\n",
    "    pickle.dump(over_100_list, fw)"
   ]
  },
  {
   "cell_type": "code",
   "execution_count": 6,
   "metadata": {},
   "outputs": [],
   "source": [
    "with open(\"D:/WorkSpace/master_thesis/Drug_Bank/result/approved_pmid_oevr_100.pkl\", \"rb\") as f:\n",
    "    pmid_over_100 = pickle.load(f)"
   ]
  },
  {
   "cell_type": "code",
   "execution_count": 10,
   "metadata": {},
   "outputs": [
    {
     "data": {
      "text/plain": [
       "100"
      ]
     },
     "execution_count": 10,
     "metadata": {},
     "output_type": "execute_result"
    }
   ],
   "source": [
    "len(pmid_over_100['Cetuximab'])"
   ]
  }
 ],
 "metadata": {
  "kernelspec": {
   "display_name": "Python 3",
   "language": "python",
   "name": "python3"
  },
  "language_info": {
   "codemirror_mode": {
    "name": "ipython",
    "version": 3
   },
   "file_extension": ".py",
   "mimetype": "text/x-python",
   "name": "python",
   "nbconvert_exporter": "python",
   "pygments_lexer": "ipython3",
   "version": "3.8.3"
  }
 },
 "nbformat": 4,
 "nbformat_minor": 2
}
