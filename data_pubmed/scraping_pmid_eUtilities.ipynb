{
 "cells": [
  {
   "cell_type": "code",
   "execution_count": 1,
   "metadata": {},
   "outputs": [],
   "source": [
    "import sys\n",
    "import re\n",
    "import time\n",
    "import requests\n",
    "from lxml import etree\n",
    "from lxml import html\n",
    "from unidecode import unidecode"
   ]
  },
  {
   "cell_type": "code",
   "execution_count": 2,
   "metadata": {},
   "outputs": [
    {
     "name": "stdout",
     "output_type": "stream",
     "text": [
      "13580\n"
     ]
    }
   ],
   "source": [
    "# Drug bank common name list\n",
    "import pandas as pd\n",
    "\n",
    "df = pd.read_csv('D:/WorkSpace/master_thesis/Drug_Bank/drugbank_vocabulary.csv')\n",
    "drugName = df['Common name']\n",
    "\n",
    "print(len(drugName))"
   ]
  },
  {
   "cell_type": "code",
   "execution_count": null,
   "metadata": {},
   "outputs": [],
   "source": [
    "# Base URL (Required Parameter: db)\n",
    "base_url = 'https://eutils.ncbi.nlm.nih.gov/entrez/eutils/esearch.fcgi?db=pubmed&term='\n",
    "\n",
    "# Hyper parameter\n",
    "reldate = '3650' # 10 years\n",
    "retmax = '20'\n",
    "\n",
    "# pmid set by drug name\n",
    "pmid_set = dict()\n",
    "\n",
    "for i in range(len(drugName)):\n",
    "# for i in range(5):    \n",
    "    # Define url\n",
    "    search_url = base_url + drugName[i] + '[title]&reldate=' + reldate + '&datetype=pdat&retmax=' + retmax +'&usehistory=y'\n",
    "\n",
    "    # get xml data\n",
    "    page = requests.get(search_url)\n",
    "    tree = html.fromstring(page.content)\n",
    "\n",
    "    # get pmid by drug name\n",
    "    pmid_list = list()\n",
    "    for pmid in tree.xpath(\"//idlist/id\"):\n",
    "        pmid_list.append(pmid.text)\n",
    "    \n",
    "    pmid_set[drugName[i]] = pmid_list    \n"
   ]
  },
  {
   "cell_type": "code",
   "execution_count": 9,
   "metadata": {},
   "outputs": [
    {
     "name": "stdout",
     "output_type": "stream",
     "text": [
      "14\n",
      "100\n",
      "53\n",
      "20\n",
      "100\n"
     ]
    }
   ],
   "source": [
    "print(len(pmid_set['Lepirudin']))\n",
    "print(len(pmid_set['Cetuximab']))\n",
    "print(len(pmid_set['Dornase alfa']))\n",
    "print(len(pmid_set['Denileukin diftitox']))\n",
    "print(len(pmid_set['Etanercept']))"
   ]
  },
  {
   "cell_type": "code",
   "execution_count": null,
   "metadata": {},
   "outputs": [],
   "source": [
    "import pickle\n",
    "\n",
    "with open(\"D:/WorkSpace/master_thesis/data_pubmed/pmid/result_pmid_by_drug.pkl\", \"wb\") as fw:\n",
    "    pickle.dump(pmid_set, fw)"
   ]
  },
  {
   "cell_type": "code",
   "execution_count": null,
   "metadata": {},
   "outputs": [],
   "source": [
    "# with open(\"D:/WorkSpace/master_thesis/data_pubmed/pmid/result_download_list.pkl\", \"rb\") as fr:\n",
    "#     data_read = pickle.load(fr)"
   ]
  }
 ],
 "metadata": {
  "kernelspec": {
   "display_name": "Python 3",
   "language": "python",
   "name": "python3"
  },
  "language_info": {
   "codemirror_mode": {
    "name": "ipython",
    "version": 3
   },
   "file_extension": ".py",
   "mimetype": "text/x-python",
   "name": "python",
   "nbconvert_exporter": "python",
   "pygments_lexer": "ipython3",
   "version": "3.8.3"
  }
 },
 "nbformat": 4,
 "nbformat_minor": 2
}
