{
 "cells": [
  {
   "cell_type": "code",
   "execution_count": 1,
   "metadata": {},
   "outputs": [],
   "source": [
    "import sys\n",
    "import re\n",
    "import time\n",
    "import requests\n",
    "from lxml import etree\n",
    "from lxml import html\n",
    "# from unidecode import unidecode"
   ]
  },
  {
   "cell_type": "code",
   "execution_count": 42,
   "metadata": {},
   "outputs": [],
   "source": [
    "# approved drug data - from Drug bank complete data\n",
    "import pandas as pd\n",
    "drugbank_approved_df = pd.read_csv('D:/WorkSpace/master_thesis/Drug_Bank/result/drugbank_approved.tsv', sep='\\t')\n",
    "drugName = drugbank_approved_df['name']"
   ]
  },
  {
   "cell_type": "code",
   "execution_count": 48,
   "metadata": {},
   "outputs": [],
   "source": [
    "# Base URL (Required Parameter: db)\n",
    "base_url = 'https://eutils.ncbi.nlm.nih.gov/entrez/eutils/esearch.fcgi?db=pubmed&term='\n",
    "\n",
    "# Hyper parameter\n",
    "reldate = '3650' # 10 years\n",
    "retmax = '20'\n",
    "\n",
    "# pmid set by drug name\n",
    "pmid_set = dict()\n",
    "\n",
    "for i in range(len(drugName)):\n",
    "    # Define url\n",
    "    search_url = base_url + drugName[i] + '[title]&reldate=' + reldate + '&datetype=pdat&retmax=' + retmax +'&usehistory=y'\n",
    "\n",
    "    # get xml data\n",
    "    page = requests.get(search_url)\n",
    "    tree = html.fromstring(page.content)\n",
    "\n",
    "    # get pmid by drug name\n",
    "    pmid_list = list()\n",
    "    for pmid in tree.xpath(\"//idlist/id\"):\n",
    "        pmid_list.append(pmid.text)\n",
    "    \n",
    "    pmid_set[drugName[i]] = pmid_list    \n"
   ]
  },
  {
   "cell_type": "code",
   "execution_count": 49,
   "metadata": {},
   "outputs": [],
   "source": [
    "import pickle\n",
    "\n",
    "with open(\"D:/WorkSpace/master_thesis/Drug_Bank/result/approved_pmid.pkl\", \"wb\") as fw:\n",
    "    pickle.dump(pmid_set, fw)"
   ]
  },
  {
   "cell_type": "code",
   "execution_count": 53,
   "metadata": {},
   "outputs": [
    {
     "name": "stdout",
     "output_type": "stream",
     "text": [
      "4270\n"
     ]
    }
   ],
   "source": [
    "with open(\"D:/WorkSpace/master_thesis/Drug_Bank/result/approved_pmid.pkl\", \"rb\") as f:\n",
    "    read_pmid = pickle.load(f)\n",
    "\n",
    "print(len(read_pmid))"
   ]
  }
 ],
 "metadata": {
  "kernelspec": {
   "display_name": "Python 3",
   "language": "python",
   "name": "python3"
  },
  "language_info": {
   "codemirror_mode": {
    "name": "ipython",
    "version": 3
   },
   "file_extension": ".py",
   "mimetype": "text/x-python",
   "name": "python",
   "nbconvert_exporter": "python",
   "pygments_lexer": "ipython3",
   "version": "3.9.2"
  }
 },
 "nbformat": 4,
 "nbformat_minor": 2
}
